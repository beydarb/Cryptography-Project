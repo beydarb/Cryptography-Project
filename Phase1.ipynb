{
  "nbformat": 4,
  "nbformat_minor": 0,
  "metadata": {
    "colab": {
      "name": "411 Phase1.ipynb",
      "provenance": [],
      "collapsed_sections": []
    },
    "kernelspec": {
      "name": "python3",
      "display_name": "Python 3"
    }
  },
  "cells": [
    {
      "cell_type": "code",
      "metadata": {
        "colab": {
          "base_uri": "https://localhost:8080/"
        },
        "id": "nT6cuNt2agiP",
        "outputId": "ce7d607e-755b-4313-be2b-b3e6244b3b65"
      },
      "source": [
        "!pip install ecpy\n",
        "!pip install pycryptodome"
      ],
      "execution_count": null,
      "outputs": [
        {
          "output_type": "stream",
          "text": [
            "Collecting ecpy\n",
            "  Using cached https://files.pythonhosted.org/packages/e8/35/4a113189f7138035a21bd255d30dc7bffc77c942c93b7948d2eac2e22429/ECPy-1.2.5-py3-none-any.whl\n",
            "Installing collected packages: ecpy\n",
            "Successfully installed ecpy-1.2.5\n",
            "Requirement already satisfied: pycryptodome in /usr/local/lib/python3.6/dist-packages (3.9.9)\n"
          ],
          "name": "stdout"
        }
      ]
    },
    {
      "cell_type": "code",
      "metadata": {
        "id": "qtcUzpvYe5EP"
      },
      "source": [
        "import math\n",
        "import timeit\n",
        "import random\n",
        "import sympy\n",
        "import warnings\n",
        "from random import randint, seed\n",
        "import sys\n",
        "from ecpy.curves import Curve,Point\n",
        "from Crypto.Hash import SHA3_256\n",
        "import requests\n",
        "from Crypto.Cipher import AES\n",
        "from Crypto import Random\n",
        "from Crypto.Util.Padding import pad\n",
        "from Crypto.Util.Padding import unpad\n",
        "import random\n",
        "import re\n",
        "import json\n",
        "API_URL = 'http://cryptlygos.pythonanywhere.com'\n",
        "\n",
        "stuID = 25389"
      ],
      "execution_count": null,
      "outputs": []
    },
    {
      "cell_type": "code",
      "metadata": {
        "id": "SVQk8sdfe8es"
      },
      "source": [
        "#HERE CREATE A LONG TERM KEY\n",
        "E = Curve.get_curve('secp256k1')\n",
        "n = E.order\n",
        "p = E.field\n",
        "P = E.generator\n",
        "a = E.a\n",
        "b = E.b\n"
      ],
      "execution_count": null,
      "outputs": []
    },
    {
      "cell_type": "code",
      "metadata": {
        "id": "ggt4AgoXVkQ9",
        "colab": {
          "base_uri": "https://localhost:8080/"
        },
        "outputId": "373c9f71-3ccf-4dec-e7d8-9a604ecc0416"
      },
      "source": [
        "\n",
        "\n",
        "\n",
        "#key generation\n",
        "sA = randint(1,n-1) #long term private key\n",
        "lprivate = sA\n",
        "QA = (lprivate) * P\n",
        "lkey = QA #long term public key\n",
        "\n",
        "#signature generation\n",
        "m = str(stuID).encode()\n",
        "k = randint(1,n-1)\n",
        "R = k*P\n",
        "r = (R.x) % n\n",
        "r = r.to_bytes((r.bit_length()+7)//8, byteorder='big')\n",
        "T = m+r \n",
        "h = (SHA3_256.new(T))\n",
        "\n",
        "h_=h.digest()\n",
        "h=int.from_bytes(h_, byteorder='big')\n",
        "h = h % n\n",
        "\n",
        "s = ((lprivate * h) + k)  % n\n",
        "signature = (h,s)\n",
        "\n",
        "#signature verification\n",
        "V = (s*P) - (h*QA)\n",
        "v = (V.x) % n\n",
        "v = v.to_bytes((v.bit_length()+7)//8, byteorder='big')\n",
        "Z = m+v \n",
        "\n",
        "l = (SHA3_256.new(Z))\n",
        "l_=l.digest()\n",
        "h2=int.from_bytes(l_, byteorder='big')\n",
        "h2 = h2 % n\n",
        "\n",
        "if h2 == h:\n",
        "  print(\"Signature verified!\")\n",
        "else:\n",
        "  print(\"Signature denied!\")\n",
        "\n",
        "#server's long term key\n",
        "QSer_long = Point(0xc1bc6c9063b6985fe4b93be9b8f9d9149c353ae83c34a434ac91c85f61ddd1e9 , 0x931bd623cf52ee6009ed3f50f6b4f92c564431306d284be7e97af8e443e69a8c, E)\n",
        "print(\"long term private: \", lprivate, \" long term public\", lkey)\n"
      ],
      "execution_count": null,
      "outputs": [
        {
          "output_type": "stream",
          "text": [
            "Signature verified!\n",
            "ID: 25389 h: 38259768464250379635040497775890139855882915235214709993057000913918828773916 s: 87850353099225359665562494505080637981331677900847642053424518055570024211745 LKEY.X: 13619625218732843456028323071152542955109936481024470844470356748070850858941 LKEY.Y: 42064519950064156800251459524511966204349551417264822203728114954854536303590\n",
            "long term private:  45917922352925957393588137970243412602337613049636322288077465947682944756984  long term public (0x1e1c6f48505619df3ba0367b275130e0e7bf0ad9b2637067ea2707a7d4770fbd , 0x5cffacb13eb2e3bde7247fd8d245725c9d2c05d3c527a7303f25ff5ac917d3e6)\n"
          ],
          "name": "stdout"
        }
      ]
    },
    {
      "cell_type": "code",
      "metadata": {
        "id": "jyGY8dAFjr22"
      },
      "source": [
        "long_term_private = 45917922352925957393588137970243412602337613049636322288077465947682944756984      \n",
        "long_term_public = Point(0x1e1c6f48505619df3ba0367b275130e0e7bf0ad9b2637067ea2707a7d4770fbd , 0x5cffacb13eb2e3bde7247fd8d245725c9d2c05d3c527a7303f25ff5ac917d3e6 , E)\n",
        "h = 38259768464250379635040497775890139855882915235214709993057000913918828773916 \n",
        "s = 87850353099225359665562494505080637981331677900847642053424518055570024211745 \n",
        "# HERE GENERATE A EPHEMERAL KEY \n",
        "E = Curve.get_curve('secp256k1')\n",
        "n = E.order\n",
        "p = E.field\n",
        "P = E.generator\n",
        "a = E.a\n",
        "b = E.b\n",
        "\n",
        "ephemeral_sa = randint(1,n-1)\n",
        "ephemeral_QA = (ephemeral_sa) * P\n",
        "ekey = ephemeral_QA "
      ],
      "execution_count": null,
      "outputs": []
    },
    {
      "cell_type": "code",
      "metadata": {
        "colab": {
          "base_uri": "https://localhost:8080/"
        },
        "id": "VaWb2wAtRSbB",
        "outputId": "f5fe4b0f-a7ea-4456-a85f-b73b4963e570"
      },
      "source": [
        "try:\n",
        "  #REGISTRATION\n",
        "  mes = {'ID':stuID, 'h': h, 's': s, 'LKEY.X': lkey.x, 'LKEY.Y': lkey.y}\n",
        "  response = requests.put('{}/{}'.format(API_URL, \"RegStep1\"), json = mes)\t\t\n",
        "  if((response.ok) == False): raise Exception(response.json())\n",
        "  print(response.json())\n",
        "\n",
        "  print(\"Enter verification code which is sent to you: \")\t\n",
        "  code = int(input())\n",
        "\n",
        "  mes = {'ID':stuID, 'CODE': code}\n",
        "  response = requests.put('{}/{}'.format(API_URL, \"RegStep3\"), json = mes)\n",
        "  if((response.ok) == False): raise Exception(response.json())\n",
        "  print(response.json())\n",
        "\n",
        "\n",
        "  #STS PROTOCOL\n",
        "\n",
        "  mes = {'ID': stuID, 'EKEY.X': ekey.x, 'EKEY.Y': ekey.y}\n",
        "  response = requests.put('{}/{}'.format(API_URL, \"STSStep1&2\"), json = mes)\n",
        "  if((response.ok) == False): raise Exception(responce.json())\n",
        "  res=response.json()\n",
        "\n",
        "  # calculate T,K,U\n",
        "  skeyx = res[\"SKEY.X\"]\n",
        "  skeyy = res[\"SKEY.Y\"]\n",
        "  QB = Point(skeyx, skeyy, E)\n",
        "  T = ephemeral_sa * QB\n",
        "  t_x = str(T.x)\n",
        "  t_y = str(T.y)\n",
        "  string = \"BeYourselfNoMatterWhatTheySay\"\n",
        "  U = t_x + t_y + string\n",
        "  u_ = U.encode()\n",
        "  K = SHA3_256.new(u_)\n",
        "  K = K.digest()\n",
        "\n",
        "  # Sign Message\n",
        "  W1 = str(ekey.x) + str(ekey.y) + str(QB.x) + str(QB.y) \n",
        "  k = randint(1,n-1)\n",
        "  R2 = k * P\n",
        "  r2 = (R2.x) % n\n",
        "  r2 = r2.to_bytes((r2.bit_length() + 7) // 8, 'big')\n",
        "  T2 = W1.encode() + r2\n",
        "  h2 = (SHA3_256.new(T2))\n",
        "  h2_ = h2.digest()\n",
        "  h2 = int.from_bytes(h2_, byteorder='big')\n",
        "  h2 = h2 % n\n",
        "  sl = long_term_private\n",
        "\n",
        "  s2 = ((sl * h2) + k) % n\n",
        "  (Siga_s, Siga_h) = (s2, h2)\n",
        "  \n",
        "  # Encryption\n",
        "  my_message = \"s\" + str(Siga_s) + \"h\" + str(Siga_h)\n",
        "  plaintext = my_message.encode()\n",
        "  cipher = AES.new(K, AES.MODE_CTR)\n",
        "  Y1 = cipher.encrypt(plaintext)\n",
        "\n",
        "  ctext = cipher.nonce[0:8] + Y1\n",
        "  ctext = int.from_bytes(ctext, byteorder='big')\n",
        "  ###Send encrypted-signed keys and retrive server's signed keys\n",
        "  mes = {'ID': stuID, 'FINAL MESSAGE': ctext}\n",
        "  response = requests.put('{}/{}'.format(API_URL, \"STSStep4&5\"), json=mes)\n",
        "  if ((response.ok) == False): raise Exception(response.json())\n",
        "  ctext = response.json()\n",
        "\n",
        "  #Decrypt \n",
        "  ctext = ctext.to_bytes((ctext.bit_length()+7)//8, byteorder='big')\n",
        "  cipher = AES.new(K, AES.MODE_CTR, nonce=ctext[0:8])\n",
        "  Y2 = cipher.decrypt(ctext[8:])\n",
        "  temp1 = str(Y2).find(\"s\")\n",
        "  temp2 = str(Y2).find(\"h\")\n",
        "  sigb_s = str(Y2)[temp1+1:temp2]\n",
        "  sigb_h = str(Y2)[temp2+1:]\n",
        "  sigb_h = sigb_h[:-1]\n",
        "  sigb_s = int(sigb_s)\n",
        "  sigb_h = int(sigb_h)\n",
        "\n",
        "  #verify\n",
        "  W2 = str(QB.x) + str(QB.y) + str(ekey.x) + str(ekey.y) \n",
        "  m = W2.encode()\n",
        "  V = (sigb_s * P) - (sigb_h*QSer_long)  \n",
        "  v = (V.x) % n \n",
        "  v = v.to_bytes((v.bit_length()+7)//8, byteorder='big')\n",
        "  Z = m+v\n",
        "\n",
        "  l = (SHA3_256.new(Z))\n",
        "  l_=l.digest()\n",
        "  h2=int.from_bytes(l_, byteorder='big')\n",
        "  h2 = h2 % n\n",
        "\n",
        "  if h2 == sigb_h:\n",
        "    print(\"Signature verified!\")\n",
        "  else:\n",
        "    print(\"Signature denied!\")\n",
        "\n",
        "  #get a message from servesr for \n",
        "  mes = {'ID': stuID}\n",
        "  response = requests.get('{}/{}'.format(API_URL, \"STSStep6\"), json=mes)\n",
        "  server_cipher = response.json()         \n",
        "\n",
        "  #Decrypt\n",
        "  server_cipher = server_cipher.to_bytes((server_cipher.bit_length()+7)//8, byteorder='big')\n",
        "  cipher = AES.new(K, AES.MODE_CTR, nonce=server_cipher[0:8])\n",
        "  message = cipher.decrypt(server_cipher[8:])\n",
        "  message = message.decode()\n",
        "  print(\"Message from server: \" , message)\n",
        "  RAND = message[-8:]\n",
        "  message = message[0:len(message)-8]\n",
        "\n",
        "  #Add 1 to random to create the new message and encrypt it\n",
        "  RAND = int(RAND) + 1\n",
        "  plaintext =  message + str(RAND)\n",
        "  print(\"MessageToServer: \" ,plaintext)\n",
        "  plaintext = plaintext.encode()\n",
        "  cipher = AES.new(K, AES.MODE_CTR)\n",
        "  ct = cipher.nonce[0:8] + cipher.encrypt(plaintext)\n",
        "  ct = int.from_bytes(ct, byteorder='big')\n",
        "  W4 = RAND\n",
        "  #send the message and get response of the server\n",
        "  mes = {'ID': stuID, 'ctext': ct}\n",
        "  response = requests.put('{}/{}'.format(API_URL, \"STSStep7&8\"), json = mes)\n",
        "  ctext= response.json()         \n",
        "\n",
        "  server_cipher = ctext.to_bytes((ctext.bit_length()+7)//8, byteorder='big')\n",
        "  cipher = AES.new(K, AES.MODE_CTR, nonce=server_cipher[0:8])\n",
        "  message = cipher.decrypt(server_cipher[8:])\n",
        "  message = message.decode()\n",
        "  print(\"Expected message from server: \", message)\n",
        "\n",
        "except Exception as e:\n",
        "  print(e)\n"
      ],
      "execution_count": null,
      "outputs": [
        {
          "output_type": "stream",
          "text": [
            "Signature verified!\n",
            "Message from server:  When you read this message I'll be far away. 16731112\n",
            "MessageToServer:  When you read this message I'll be far away. 16731113\n",
            "Expected message from server:  When you read this message I'll be far away. 16731114\n"
          ],
          "name": "stdout"
        }
      ]
    },
    {
      "cell_type": "code",
      "metadata": {
        "id": "QDcFi5uIf3nX"
      },
      "source": [
        "#BURDAN ITIBAREN PHASE 2"
      ],
      "execution_count": null,
      "outputs": []
    },
    {
      "cell_type": "code",
      "metadata": {
        "id": "9ZpEVRDuPTRy"
      },
      "source": [
        "import math\n",
        "import timeit\n",
        "import random\n",
        "import sympy\n",
        "import warnings\n",
        "from random import randint, seed\n",
        "import sys\n",
        "from ecpy.curves import Curve,Point\n",
        "from Crypto.Hash import SHA3_256\n",
        "import requests\n",
        "from Crypto.Cipher import AES\n",
        "from Crypto import Random\n",
        "from Crypto.Util.Padding import pad\n",
        "from Crypto.Util.Padding import unpad\n",
        "import random\n",
        "import re\n",
        "import json\n",
        "API_URL = 'http://cryptlygos.pythonanywhere.com'\n",
        "\n",
        "stuID =  25389\n",
        "\n",
        "E = Curve.get_curve('secp256k1')\n",
        "n = E.order\n",
        "p = E.field\n",
        "P = E.generator\n",
        "a = E.a\n",
        "b = E.b\n",
        "#create a long term key\n",
        "long_term_private = 45917922352925957393588137970243412602337613049636322288077465947682944756984      \n",
        "QCli_long = Point(0x1e1c6f48505619df3ba0367b275130e0e7bf0ad9b2637067ea2707a7d4770fbd , 0x5cffacb13eb2e3bde7247fd8d245725c9d2c05d3c527a7303f25ff5ac917d3e6 , E)\n",
        "m  = str(stuID)\n",
        "m = m.encode()\n",
        "k = randint(1,n-1)\n",
        "R = k*P\n",
        "r = (R.x) % n\n",
        "r = r.to_bytes((r.bit_length()+7)//8, byteorder='big')\n",
        "T = m+r \n",
        "h = (SHA3_256.new(T))\n",
        "h_= h.digest()\n",
        "h=int.from_bytes(h_, byteorder='big')\n",
        "h = h % n\n",
        "s = ((long_term_private * h) + k)  % n\n",
        "\n",
        "#server's long term key\n",
        "QSer_long = Point(0xc1bc6c9063b6985fe4b93be9b8f9d9149c353ae83c34a434ac91c85f61ddd1e9 , 0x931bd623cf52ee6009ed3f50f6b4f92c564431306d284be7e97af8e443e69a8c, E)\n",
        "\n"
      ],
      "execution_count": null,
      "outputs": []
    },
    {
      "cell_type": "code",
      "metadata": {
        "id": "XEFZimzR64GB"
      },
      "source": [
        "\n",
        "####Register Long Term Key\n",
        "\"\"\"mes = {'ID':25389, 'H': h, 'S': s, 'LKEY.X': QCli_long.x, 'LKEY.Y': QCli_long.y}\n",
        "response = requests.put('{}/{}'.format(API_URL, \"RegLongRqst\"), json = mes)\n",
        "print(response.json())\n",
        "code = input()\n",
        "\n",
        "mes = {'ID':25389, 'CODE': code}\n",
        "response = requests.put('{}/{}'.format(API_URL, \"RegLong\"), json = mes)\n",
        "print(response.json())\"\"\"\n",
        "\n",
        "\n",
        "def key_generator():\n",
        "  E = Curve.get_curve('secp256k1')\n",
        "  n = E.order\n",
        "  p = E.field\n",
        "  P = E.generator\n",
        "  a = E.a\n",
        "  b = E.b\n",
        "  sA = randint(1,n-1)\n",
        "  QA = (sA) * P\n",
        "  return sA, QA\n",
        "\n",
        "sA0, QA0 = key_generator()\n",
        "sA1, QA1 = key_generator()\n",
        "sA2, QA2 = key_generator()\n",
        "sA3, QA3 = key_generator()\n",
        "sA4, QA4 = key_generator()\n",
        "sA5, QA5 = key_generator()\n",
        "sA6, QA6 = key_generator()\n",
        "sA7, QA7 = key_generator()\n",
        "sA8, QA8 = key_generator()\n",
        "sA9, QA9 = key_generator()\n",
        "\n",
        "#signature generation\n",
        "def sign_message(QA, long_priv):\n",
        "  E = Curve.get_curve('secp256k1')\n",
        "  n = E.order\n",
        "  p = E.field\n",
        "  P = E.generator\n",
        "  a = E.a\n",
        "  b = E.b\n",
        "\n",
        "  m  = str(QA.x) + str(QA.y)\n",
        "  m = m.encode()\n",
        "  k = randint(1,n-1)\n",
        "  R = k*P\n",
        "  r = (R.x) % n\n",
        "  r = r.to_bytes((r.bit_length()+7)//8, byteorder='big')\n",
        "  T = m+r \n",
        "  h = (SHA3_256.new(T))\n",
        "  h_= h.digest()\n",
        "  h=int.from_bytes(h_, byteorder='big')\n",
        "  h = h % n\n",
        "\n",
        "  s = ((long_priv * h) + k)  % n\n",
        "  return s, h\n",
        "\n",
        "s0, h0 = sign_message(QA0, long_term_private)\n",
        "s1, h1 = sign_message(QA1, long_term_private)\n",
        "s2, h2 = sign_message(QA2, long_term_private)\n",
        "s3, h3 = sign_message(QA3, long_term_private)\n",
        "s4, h4 = sign_message(QA4, long_term_private)\n",
        "s5, h5 = sign_message(QA5, long_term_private)\n",
        "s6, h6 = sign_message(QA6, long_term_private)\n",
        "s7, h7 = sign_message(QA7, long_term_private)\n",
        "s8, h8 = sign_message(QA8, long_term_private)\n",
        "s9, h9 = sign_message(QA9, long_term_private)"
      ],
      "execution_count": null,
      "outputs": []
    },
    {
      "cell_type": "code",
      "metadata": {
        "colab": {
          "base_uri": "https://localhost:8080/"
        },
        "id": "T7nzBWvbdiUR",
        "outputId": "110321f4-87a5-4291-c9ee-1f70d32b8cdf"
      },
      "source": [
        "#BURAYI YUKLEMEK GEREK MI???\n",
        "###delete ephemeral keys\n",
        "E = Curve.get_curve('secp256k1')\n",
        "n = E.order\n",
        "p = E.field\n",
        "P = E.generator\n",
        "a = E.a\n",
        "b = E.b\n",
        "\n",
        "m  = str(stuID)\n",
        "m = m.encode()\n",
        "k = randint(1,n-1)\n",
        "R = k*P\n",
        "r = (R.x) % n\n",
        "r = r.to_bytes((r.bit_length()+7)//8, byteorder='big')\n",
        "T = m+r \n",
        "h = (SHA3_256.new(T))\n",
        "h_= h.digest()\n",
        "h = int.from_bytes(h_, byteorder='big')\n",
        "h = h % n\n",
        "s = ((long_term_private * h) + k)  % n\n",
        "\n",
        "\n",
        "mes = {'ID': stuID, 'S': s, 'H': h}\n",
        "response = requests.get('{}/{}'.format(API_URL, \"RstEKey\"), json = mes)\n",
        "print(response.json())"
      ],
      "execution_count": null,
      "outputs": [
        {
          "output_type": "stream",
          "text": [
            "200\n"
          ],
          "name": "stdout"
        }
      ]
    },
    {
      "cell_type": "code",
      "metadata": {
        "colab": {
          "base_uri": "https://localhost:8080/"
        },
        "id": "NEUznImhVpAy",
        "outputId": "aa1ec6fe-e010-44e2-fa0a-a9c291824bde"
      },
      "source": [
        "print(\"sA0: \", sA0, \"QA0: \", QA0, \"s0: \", s0, \"h0: \", h0)\n",
        "print(\"sA1: \", sA1, \"QA1: \", QA1, \"s1: \", s1, \"h1: \", h1)\n",
        "print(\"sA2: \", sA2, \"QA2: \", QA2, \"s2: \", s2, \"h2: \", h2)\n",
        "print(\"sA3: \", sA3, \"QA3: \", QA3, \"s3: \", s3, \"h3: \", h3)\n",
        "print(\"sA4: \", sA4, \"QA4: \", QA4, \"s4: \", s4, \"h4: \", h4)\n",
        "print(\"sA5: \", sA5, \"QA5: \", QA5, \"s5: \", s5, \"h5: \", h5)\n",
        "print(\"sA6: \", sA6, \"QA6: \", QA6, \"s6: \", s6, \"h6: \", h6)\n",
        "print(\"sA7: \", sA7, \"QA7: \", QA7, \"s7: \", s7, \"h7: \", h7)\n",
        "print(\"sA8: \", sA8, \"QA8: \", QA8, \"s8: \", s8, \"h8: \", h8)\n",
        "print(\"sA9: \", sA9, \"QA9: \", QA9, \"s9: \", s9, \"h9: \", h9)"
      ],
      "execution_count": null,
      "outputs": [
        {
          "output_type": "stream",
          "text": [
            "sA0:  82543384283391623622849791820575630198488103744083980548928116053600005759945 QA0:  (0xfb2b48d228ddbcdc8c3a6b957de22757f1027af5a4dd85c7aff17a7deb1b4958 , 0x667a0d8c974d9a81c5d5e598613839eac327782cd3588c8d423d136352468c7) s0:  82720513417142409764978006740305158672497742081804379812192344933328242570816 h0:  28288362648394007017447150617984660347988209942587627533123706027538343303625\n",
            "sA1:  115606596987806643177008702969844986728848373589906641795160548218968247600803 QA1:  (0x9c75d3d58e0d870ee72d7b0081b82f17956cc718b81c84fd26b525baa79f61df , 0x95aee8441c1afc486a444cc3b11cdcd1c66e4d7291e2c8941d5694bd2993eef8) s1:  69839503343330213539255704641105853118984003631558227104930340515924177221774 h1:  101609936301700590093394863128365629640961790710818979346265718663740752324068\n",
            "sA2:  102051085025409459694123872404617753804917400802047317073885463316937097769392 QA2:  (0xd860e35190dbbc6f7324e99888820c7860b469c7ae334966881c464057e8e6d2 , 0xd556004b37d8fde5a275f67e6e949a512a1ba3ae8060f6dfa14326d3d75b09f0) s2:  25313671591917344271177305335336361157015944766668569089714427207916581707292 h2:  85041708475274993481341250802219137891842380961309803233319787599409017391639\n",
            "sA3:  100056109020662515818180407479702142632948903298738057252512779433430994800057 QA3:  (0xe3cf5c7ad5ad2a36c84938906d4aa708227c5a97fbfe13018a0990a9c134e935 , 0xc1f9670d9b749c75b35d236019077e4f143f72f8809a2a6dec1f15ff71eaec71) s3:  12220845454396965748757270544193118121522077850760890261175597238247962718875 h3:  94578874030025145254647363571532083752731485510654601665468074913304690323071\n",
            "sA4:  18716412006718086656232009765038629499379530035782610360024808011470537630902 QA4:  (0x987448e6eb425903f8d5835ad9ff5187cfdd867e6035cea4048ecf4e0c604c17 , 0xdf813d1568549e03bc7e0f84f83301e1db6efa08666807c6cad75cdd6fbadfe7) s4:  67719794330328712697472735519011489598231768956822624327105235541024499898464 h4:  84366196511542838752928152180347402423769995800123882128789580267246784963237\n",
            "sA5:  15042697023948426675811855476733496962443938328832977897233540956754308576174 QA5:  (0x1f57be86cb78b10d68b1957b51036a42eb601d3bb6ae94cdcb76959f1bc2a88e , 0x9b2f838fee9470eabc0b7e8b2b04f4f61928afd39954a4688346807c0fe92d55) s5:  110079807378333116436796367823436796926261988285828966411596706472573964588969 h5:  41609810393756258132183153247179668100474364794754027679933459992404362636285\n",
            "sA6:  85386185288710580090357355757582342229569303938438416817559036827266026802050 QA6:  (0xddebe7c0f76edfce6bb63d99fc590134c749ba899d9b4767c8cdaee1bfb2cc96 , 0xca254e472faf2399e80c106f01ce085e4c431abcc5296a54f73aa419e48b0494) s6:  115301252969220162702759118770155118400502262604399135395804531859184143358644 h6:  75806659055906352911251482067816076215754191423650838948003294913519708850391\n",
            "sA7:  74318440188815669783690315293288987409084669343154606118973843935372322413271 QA7:  (0x9800b079e24f0a574d38b8d195624c9426ca9fe20508e1458bfd07b58e5cfd98 , 0xe1dc42bec2d55922ccc4e6e3705413697f6eb8ea3028b092462e42df63cbeaeb) s7:  30152059764832952400321754789840693401302065942683450851027577258385208914251 h7:  111394653762927129010303073119565970311964087596160152347469730702891499399844\n",
            "sA8:  42425719425855273331959379146980108213255799433913507275942363572766467048509 QA8:  (0x49eaa223c864149967336dbeb14c40a90523f7bb470632498c06d4b831c61475 , 0x72ae161281f1962c5db0897c26f1d73212748d3a3c33db161b37bdee6c2e2c10) s8:  20182049496958868223225827922582702725632795710943759746446061012468988393933 h8:  67103133808441375344629366569779447084546147067656205685755619731900349035299\n",
            "sA9:  13704814155367561487837776297157103536421134861131298841855928923412262614639 QA9:  (0x87e09c9fdb208578a24c29dc9aa9d68219dbfb3fb528cab1f99e950ab92e3ee9 , 0x53d6531bb6942abc39925479f8df42c33da546190a20e0206a6f49a63b4d62ba) s9:  27457068836150299574017050299947955038373640682067760462728793427362932325773 h9:  68779957237338393836158755926511756344537206498567792148828479750595895575298\n"
          ],
          "name": "stdout"
        }
      ]
    },
    {
      "cell_type": "code",
      "metadata": {
        "colab": {
          "base_uri": "https://localhost:8080/"
        },
        "id": "NDGti3Xgci8T",
        "outputId": "78354bb4-2184-42e8-bc34-c64aad2977d0"
      },
      "source": [
        "#send ephemeral key\n",
        "mes = {'ID': stuID, 'KEYID': 0 , 'QAI.X': QA0.x, 'QAI.Y': QA0.y, 'Si': s0, 'Hi': h0}\n",
        "response = requests.put('{}/{}'.format(API_URL, \"SendKey\"), json = mes)\n",
        "print(response.json())\n",
        "\n",
        "mes = {'ID': stuID, 'KEYID': 1 , 'QAI.X': QA1.x, 'QAI.Y': QA1.y, 'Si': s1, 'Hi': h1}\n",
        "response = requests.put('{}/{}'.format(API_URL, \"SendKey\"), json = mes)\n",
        "print(response.json())\n",
        "\n",
        "mes = {'ID': stuID, 'KEYID': 2 , 'QAI.X': QA2.x, 'QAI.Y': QA2.y, 'Si': s2, 'Hi': h2}\n",
        "response = requests.put('{}/{}'.format(API_URL, \"SendKey\"), json = mes)\n",
        "print(response.json())\n",
        "\n",
        "mes = {'ID': stuID, 'KEYID': 3 , 'QAI.X': QA3.x, 'QAI.Y': QA3.y, 'Si': s3, 'Hi': h3}\n",
        "response = requests.put('{}/{}'.format(API_URL, \"SendKey\"), json = mes)\n",
        "print(response.json())\n",
        "\n",
        "mes = {'ID': stuID, 'KEYID': 4 , 'QAI.X': QA4.x, 'QAI.Y': QA4.y, 'Si': s4, 'Hi': h4}\n",
        "response = requests.put('{}/{}'.format(API_URL, \"SendKey\"), json = mes)\n",
        "print(response.json())\n",
        "\n",
        "mes = {'ID': stuID, 'KEYID': 5 , 'QAI.X': QA5.x, 'QAI.Y': QA5.y, 'Si': s5, 'Hi': h5}\n",
        "response = requests.put('{}/{}'.format(API_URL, \"SendKey\"), json = mes)\n",
        "print(response.json())\n",
        "\n",
        "mes = {'ID': stuID, 'KEYID': 6 , 'QAI.X': QA6.x, 'QAI.Y': QA6.y, 'Si': s6, 'Hi': h6}\n",
        "response = requests.put('{}/{}'.format(API_URL, \"SendKey\"), json = mes)\n",
        "print(response.json())\n",
        "\n",
        "mes = {'ID': stuID, 'KEYID': 7 , 'QAI.X': QA7.x, 'QAI.Y': QA7.y, 'Si': s7, 'Hi': h7}\n",
        "response = requests.put('{}/{}'.format(API_URL, \"SendKey\"), json = mes)\n",
        "print(response.json())\n",
        "\n",
        "mes = {'ID': stuID, 'KEYID': 8 , 'QAI.X': QA8.x, 'QAI.Y': QA8.y, 'Si': s8, 'Hi': h8}\n",
        "response = requests.put('{}/{}'.format(API_URL, \"SendKey\"), json = mes)\n",
        "print(response.json())\n",
        "\n",
        "mes = {'ID': stuID, 'KEYID': 9 , 'QAI.X': QA9.x, 'QAI.Y': QA9.y, 'Si': s9, 'Hi': h9}\n",
        "response = requests.put('{}/{}'.format(API_URL, \"SendKey\"), json = mes)\n",
        "print(response.json())\n",
        "\n"
      ],
      "execution_count": null,
      "outputs": [
        {
          "output_type": "stream",
          "text": [
            "Key index is not correct. You need to send 9th key\n",
            "Key index is not correct. You need to send 9th key\n",
            "Key index is not correct. You need to send 9th key\n",
            "Key index is not correct. You need to send 9th key\n",
            "Key index is not correct. You need to send 9th key\n",
            "Key index is not correct. You need to send 9th key\n",
            "Key index is not correct. You need to send 9th key\n",
            "Key index is not correct. You need to send 9th key\n",
            "Key index is not correct. You need to send 9th key\n",
            "Key index is not correct. You need to send 9th key\n"
          ],
          "name": "stdout"
        }
      ]
    },
    {
      "cell_type": "code",
      "metadata": {
        "id": "5kBpVwEOgCd1"
      },
      "source": [
        "#GET 5 MESSAGES BELOW"
      ],
      "execution_count": null,
      "outputs": []
    },
    {
      "cell_type": "code",
      "metadata": {
        "colab": {
          "base_uri": "https://localhost:8080/"
        },
        "id": "gyPx55NBcMFW",
        "outputId": "584aeb94-b4fc-4565-c27b-71f636ab32ae"
      },
      "source": [
        "#Receiving Messages\n",
        "E = Curve.get_curve('secp256k1')\n",
        "n = E.order\n",
        "p = E.field\n",
        "P = E.generator\n",
        "a = E.a\n",
        "b = E.b\n",
        "\n",
        "m  = str(stuID)\n",
        "m = m.encode()\n",
        "k = randint(1,n-1)\n",
        "R = k*P\n",
        "r = (R.x) % n\n",
        "r = r.to_bytes((r.bit_length()+7)//8, byteorder='big')\n",
        "T = m+r \n",
        "h = (SHA3_256.new(T))\n",
        "h_= h.digest()\n",
        "h = int.from_bytes(h_, byteorder='big')\n",
        "h = h % n\n",
        "\n",
        "s = ((long_term_private * h) + k)  % n\n",
        "mes = {'ID_A': stuID, 'S': s, 'H': h}\n",
        "response = requests.get('{}/{}'.format(API_URL, \"ReqMsg\"), json = mes)\n",
        "print(response.json())"
      ],
      "execution_count": null,
      "outputs": [
        {
          "output_type": "stream",
          "text": [
            "{'IDB': 18007, 'KEYID': '6', 'MSG': 38685261194367170781688761115296361990639311618804121882833982419750728007153383696441454815007932406334387156570572676941647420018101183428781171464955970252097772549743871815282892422001516633121550, 'QBJ.X': 10210105890238661899064609876853679076402526757997419024605930603431240443, 'QBJ.Y': 107708383502831461764679818825890967236590187762417571595086386980206853942988}\n"
          ],
          "name": "stdout"
        }
      ]
    },
    {
      "cell_type": "code",
      "metadata": {
        "colab": {
          "base_uri": "https://localhost:8080/"
        },
        "id": "5zdETIXRaQnJ",
        "outputId": "dedd7216-067c-4c9f-b3fc-9ec16bf2cb3c"
      },
      "source": [
        "#Receiving Messages\n",
        "E = Curve.get_curve('secp256k1')\n",
        "n = E.order\n",
        "p = E.field\n",
        "P = E.generator\n",
        "a = E.a\n",
        "b = E.b\n",
        "\n",
        "m  = str(stuID)\n",
        "m = m.encode()\n",
        "k = randint(1,n-1)\n",
        "R = k*P\n",
        "r = (R.x) % n\n",
        "r = r.to_bytes((r.bit_length()+7)//8, byteorder='big')\n",
        "T = m+r \n",
        "h = (SHA3_256.new(T))\n",
        "h_= h.digest()\n",
        "h = int.from_bytes(h_, byteorder='big')\n",
        "h = h % n\n",
        "\n",
        "s = ((long_term_private * h) + k)  % n\n",
        "mes = {'ID_A': stuID, 'S': s, 'H': h}\n",
        "response = requests.get('{}/{}'.format(API_URL, \"ReqMsg\"), json = mes)\n",
        "print(response.json())"
      ],
      "execution_count": null,
      "outputs": [
        {
          "output_type": "stream",
          "text": [
            "{'IDB': 18007, 'KEYID': '1', 'MSG': 40430275554905575658647265090516349925438261918962748994669174535274250817601268234441731203463177318852875000590496549412481161478338085322617181044382451151914355989374576914368971596005856815908077, 'QBJ.X': 32636733385320361812730116183108216112668701450022373767616965055565622363342, 'QBJ.Y': 98805030337088261303687121196290041334423983009141542664088673140955547989082}\n"
          ],
          "name": "stdout"
        }
      ]
    },
    {
      "cell_type": "code",
      "metadata": {
        "colab": {
          "base_uri": "https://localhost:8080/"
        },
        "id": "wCqKiC_5PZq7",
        "outputId": "99c5e621-491c-46da-bd87-45258a5d088c"
      },
      "source": [
        "#Receiving Messages\n",
        "E = Curve.get_curve('secp256k1')\n",
        "n = E.order\n",
        "p = E.field\n",
        "P = E.generator\n",
        "a = E.a\n",
        "b = E.b\n",
        "\n",
        "m  = str(stuID)\n",
        "m = m.encode()\n",
        "k = randint(1,n-1)\n",
        "R = k*P\n",
        "r = (R.x) % n\n",
        "r = r.to_bytes((r.bit_length()+7)//8, byteorder='big')\n",
        "T = m+r \n",
        "h = (SHA3_256.new(T))\n",
        "h_= h.digest()\n",
        "h = int.from_bytes(h_, byteorder='big')\n",
        "h = h % n\n",
        "\n",
        "s = ((long_term_private * h) + k)  % n\n",
        "mes = {'ID_A': stuID, 'S': s, 'H': h}\n",
        "response = requests.get('{}/{}'.format(API_URL, \"ReqMsg\"), json = mes)\n",
        "print(response.json())"
      ],
      "execution_count": null,
      "outputs": [
        {
          "output_type": "stream",
          "text": [
            "{'IDB': 18007, 'KEYID': '2', 'MSG': 46957132003909831621362563400219459478279428819147275968748836541036758098502340728879311464087158785988159511390832471253939556787478661263268233844485104489616512459805070793519494174779768010521017, 'QBJ.X': 48421277388483113352796411757482422327009369565755376719093590240488632794974, 'QBJ.Y': 45793766870943501013787128727136037790926467608586803575527565543314585414372}\n"
          ],
          "name": "stdout"
        }
      ]
    },
    {
      "cell_type": "code",
      "metadata": {
        "colab": {
          "base_uri": "https://localhost:8080/"
        },
        "id": "muhfGmfuQQni",
        "outputId": "e061ccc2-84a1-4514-dc05-ded9d2672a41"
      },
      "source": [
        "#Receiving Messages\n",
        "E = Curve.get_curve('secp256k1')\n",
        "n = E.order\n",
        "p = E.field\n",
        "P = E.generator\n",
        "a = E.a\n",
        "b = E.b\n",
        "\n",
        "m  = str(stuID)\n",
        "m = m.encode()\n",
        "k = randint(1,n-1)\n",
        "R = k*P\n",
        "r = (R.x) % n\n",
        "r = r.to_bytes((r.bit_length()+7)//8, byteorder='big')\n",
        "T = m+r \n",
        "h = (SHA3_256.new(T))\n",
        "h_= h.digest()\n",
        "h = int.from_bytes(h_, byteorder='big')\n",
        "h = h % n\n",
        "\n",
        "s = ((long_term_private * h) + k)  % n\n",
        "mes = {'ID_A': stuID, 'S': s, 'H': h}\n",
        "response = requests.get('{}/{}'.format(API_URL, \"ReqMsg\"), json = mes)\n",
        "print(response.json())\n"
      ],
      "execution_count": null,
      "outputs": [
        {
          "output_type": "stream",
          "text": [
            "{'IDB': 18007, 'KEYID': '3', 'MSG': 8613400940584567846211301790391552653323274764595594923107761604050568775380330040833421170917090159578623907282823200856134045715056840292780272297197522299054250865284521679605327324438806883757895, 'QBJ.X': 110941973471089384064366641208277936190837296188861716320585526375853061531982, 'QBJ.Y': 89033303002974604176376089065035288149962165466988384265564406712841984994869}\n"
          ],
          "name": "stdout"
        }
      ]
    },
    {
      "cell_type": "code",
      "metadata": {
        "colab": {
          "base_uri": "https://localhost:8080/"
        },
        "id": "z6NfmMxjQRpe",
        "outputId": "47a5e903-e015-46d1-9578-4b0427b7ae47"
      },
      "source": [
        "#Receiving Messages\n",
        "E = Curve.get_curve('secp256k1')\n",
        "n = E.order\n",
        "p = E.field\n",
        "P = E.generator\n",
        "a = E.a\n",
        "b = E.b\n",
        "\n",
        "m  = str(stuID)\n",
        "m = m.encode()\n",
        "k = randint(1,n-1)\n",
        "R = k*P\n",
        "r = (R.x) % n\n",
        "r = r.to_bytes((r.bit_length()+7)//8, byteorder='big')\n",
        "T = m+r \n",
        "h = (SHA3_256.new(T))\n",
        "h_= h.digest()\n",
        "h = int.from_bytes(h_, byteorder='big')\n",
        "h = h % n\n",
        "\n",
        "s = ((long_term_private * h) + k)  % n\n",
        "mes = {'ID_A': stuID, 'S': s, 'H': h}\n",
        "response = requests.get('{}/{}'.format(API_URL, \"ReqMsg\"), json = mes)\n",
        "print(response.json())"
      ],
      "execution_count": null,
      "outputs": [
        {
          "output_type": "stream",
          "text": [
            "{'IDB': 18007, 'KEYID': '4', 'MSG': 25441463477105774006518871665545698415413456690181036911890493897527670375953998395217970206615576473303607676562415974441731269752939266785391848723261812521636623137483947550020581200348715727598672, 'QBJ.X': 20444406111849703453681648722845849248601932765397280751804819667293278140642, 'QBJ.Y': 29551710782173199133733203477680974121259083892407943964389582007362559282929}\n"
          ],
          "name": "stdout"
        }
      ]
    },
    {
      "cell_type": "code",
      "metadata": {
        "id": "U2bzgceJbO8p"
      },
      "source": [
        "sA0, QA0, s0, h0 = 82543384283391623622849791820575630198488103744083980548928116053600005759945 , (0xfb2b48d228ddbcdc8c3a6b957de22757f1027af5a4dd85c7aff17a7deb1b4958 , 0x667a0d8c974d9a81c5d5e598613839eac327782cd3588c8d423d136352468c7) ,  82720513417142409764978006740305158672497742081804379812192344933328242570816 ,  28288362648394007017447150617984660347988209942587627533123706027538343303625\n",
        "sA1, QA1, s1, h1 = 115606596987806643177008702969844986728848373589906641795160548218968247600803 , (0x9c75d3d58e0d870ee72d7b0081b82f17956cc718b81c84fd26b525baa79f61df , 0x95aee8441c1afc486a444cc3b11cdcd1c66e4d7291e2c8941d5694bd2993eef8) , 69839503343330213539255704641105853118984003631558227104930340515924177221774 ,  101609936301700590093394863128365629640961790710818979346265718663740752324068\n",
        "sA2, QA2, s2, h2 = 102051085025409459694123872404617753804917400802047317073885463316937097769392 ,  (0xd860e35190dbbc6f7324e99888820c7860b469c7ae334966881c464057e8e6d2 , 0xd556004b37d8fde5a275f67e6e949a512a1ba3ae8060f6dfa14326d3d75b09f0) ,  25313671591917344271177305335336361157015944766668569089714427207916581707292 , 85041708475274993481341250802219137891842380961309803233319787599409017391639\n",
        "sA3, QA3, s3, h3 = 100056109020662515818180407479702142632948903298738057252512779433430994800057 , (0xe3cf5c7ad5ad2a36c84938906d4aa708227c5a97fbfe13018a0990a9c134e935 , 0xc1f9670d9b749c75b35d236019077e4f143f72f8809a2a6dec1f15ff71eaec71) ,  12220845454396965748757270544193118121522077850760890261175597238247962718875 ,  94578874030025145254647363571532083752731485510654601665468074913304690323071\n",
        "sA4, QA4, s4, h4 = 18716412006718086656232009765038629499379530035782610360024808011470537630902 ,  (0x987448e6eb425903f8d5835ad9ff5187cfdd867e6035cea4048ecf4e0c604c17 , 0xdf813d1568549e03bc7e0f84f83301e1db6efa08666807c6cad75cdd6fbadfe7) , 67719794330328712697472735519011489598231768956822624327105235541024499898464 , 84366196511542838752928152180347402423769995800123882128789580267246784963237\n",
        "sA5, QA5, s5, h5 = 15042697023948426675811855476733496962443938328832977897233540956754308576174 , (0x1f57be86cb78b10d68b1957b51036a42eb601d3bb6ae94cdcb76959f1bc2a88e , 0x9b2f838fee9470eabc0b7e8b2b04f4f61928afd39954a4688346807c0fe92d55) ,  110079807378333116436796367823436796926261988285828966411596706472573964588969 , 41609810393756258132183153247179668100474364794754027679933459992404362636285\n",
        "sA6, QA6, s6, h6 = 85386185288710580090357355757582342229569303938438416817559036827266026802050 , (0xddebe7c0f76edfce6bb63d99fc590134c749ba899d9b4767c8cdaee1bfb2cc96 , 0xca254e472faf2399e80c106f01ce085e4c431abcc5296a54f73aa419e48b0494) ,  115301252969220162702759118770155118400502262604399135395804531859184143358644 ,  75806659055906352911251482067816076215754191423650838948003294913519708850391\n",
        "sA7, QA7, s7, h7 = 74318440188815669783690315293288987409084669343154606118973843935372322413271 ,  (0x9800b079e24f0a574d38b8d195624c9426ca9fe20508e1458bfd07b58e5cfd98 , 0xe1dc42bec2d55922ccc4e6e3705413697f6eb8ea3028b092462e42df63cbeaeb) , 30152059764832952400321754789840693401302065942683450851027577258385208914251 ,  111394653762927129010303073119565970311964087596160152347469730702891499399844\n",
        "sA8, QA8, s8, h8 = 42425719425855273331959379146980108213255799433913507275942363572766467048509 , (0x49eaa223c864149967336dbeb14c40a90523f7bb470632498c06d4b831c61475 , 0x72ae161281f1962c5db0897c26f1d73212748d3a3c33db161b37bdee6c2e2c10) ,  20182049496958868223225827922582702725632795710943759746446061012468988393933 ,  67103133808441375344629366569779447084546147067656205685755619731900349035299\n",
        "sA9, QA9, s9, h9 = 13704814155367561487837776297157103536421134861131298841855928923412262614639 ,  (0x87e09c9fdb208578a24c29dc9aa9d68219dbfb3fb528cab1f99e950ab92e3ee9 , 0x53d6531bb6942abc39925479f8df42c33da546190a20e0206a6f49a63b4d62ba) , 27457068836150299574017050299947955038373640682067760462728793427362932325773 , 68779957237338393836158755926511756344537206498567792148828479750595895575298"
      ],
      "execution_count": null,
      "outputs": []
    },
    {
      "cell_type": "code",
      "metadata": {
        "id": "zjRaoLwbaQL3",
        "colab": {
          "base_uri": "https://localhost:8080/",
          "height": 92
        },
        "outputId": "2a2f411c-9975-4937-af0c-5d57011548c5"
      },
      "source": [
        "#decrypt messages\n",
        "from Crypto.Hash import HMAC, SHA256\n",
        "#session keys\n",
        "def session_keys_and_decrypt(message, si, Qj):\n",
        "  T = si * Qj\n",
        "  U = str(T.x) + str(T.y) + \"NoNeedToRunAndHide\"\n",
        "  U = U.encode()\n",
        "  KENC_AB = (SHA3_256.new(U))\n",
        "  KENC_AB_ = KENC_AB.digest()\n",
        "  KMAC_AB = (SHA3_256.new(KENC_AB_))\n",
        "  KMAC_AB_ = KMAC_AB.digest()\n",
        "  ctext = message.to_bytes((message.bit_length()+7)//8, byteorder='big')\n",
        "  mac = ctext[-32:]\n",
        "  ctext = ctext[0:-32]\n",
        "  cipher = AES.new(KENC_AB_, AES.MODE_CTR, nonce=ctext[0:8])\n",
        "  dtext = cipher.decrypt(ctext[8:])\n",
        "  h = HMAC.new(KMAC_AB_ , digestmod=SHA256)\n",
        "  h.update(ctext[8:])\n",
        "  if mac == h.digest():\n",
        "    print(\"The message \", message.to_bytes((message.bit_length()+7)//8, byteorder='big'), \"is authentic\")\n",
        "    return dtext\n",
        "  else:\n",
        "    return \"Not authentic\""
      ],
      "execution_count": null,
      "outputs": [
        {
          "output_type": "stream",
          "text": [
            "The message  b'f\\xe0\\x0fO\\n\\x16\\x8a\\xee\\xdbn+\\x13n\\xd0\\xbd?\\xc2\\x19.<\\xc7\\x8dU\\xc5\\xa5i93\\xc1\\xecT\\xf8\\xd2[Bq\\x12\\x8d\\xeey\\x89\\xf8\\xc4\\xf6\\xbd\\xe6\\xf4#\\xee\\x8dn&\\x93\\xb7\\x8b\\x9a\\xbb<\\x1e\\x06\\xce\\xb9m\\x9b\\xb0\\xd9\\xb0\\x0c\\xe8\\xc4eb\\xaf\\xa1f\\xb9\\xab\\xb0\\xd4\\x94)C\\xa4' is authentic\n"
          ],
          "name": "stdout"
        },
        {
          "output_type": "execute_result",
          "data": {
            "application/vnd.google.colaboratory.intrinsic+json": {
              "type": "string"
            },
            "text/plain": [
              "'#send decrypted messages to server\\nmes = {\\'ID_A\\': stuID, \\'DECMSG\\': h}\\nresponse = requests.put(\\'{}/{}\\'.format(API_URL, \"Checker\"), json = mes)'"
            ]
          },
          "metadata": {
            "tags": []
          },
          "execution_count": 98
        }
      ]
    },
    {
      "cell_type": "code",
      "metadata": {
        "colab": {
          "base_uri": "https://localhost:8080/"
        },
        "id": "0kVUThgPbSU1",
        "outputId": "53de2951-82ea-45fa-8e6f-febcd88c9fdc"
      },
      "source": [
        "#for KEYID:0 \n",
        "msg0 = 17720794446848774991130155448282084288791104527069307820855503813929729016895914453518623392750481403203719599348495602147840350218544338723731834039818453146757642666430564098313414639364042369377010\n",
        "QB0 = Point(94532122962867511185800589273587440472361078076014591619662504450715136624028, 23378557078196776373888889771714683320279156677649776442452558438633034068001,E)\n",
        "message_0 = session_keys(msg0,sA0,QB0)\n",
        "h = message_0.decode()\n",
        "#send decrypted messages to server\n",
        "mes = {'ID_A': stuID, 'DECMSG': h}\n",
        "response = requests.put('{}/{}'.format(API_URL, \"Checker\"), json = mes)\n",
        "print(response.json())"
      ],
      "execution_count": null,
      "outputs": [
        {
          "output_type": "stream",
          "text": [
            "The message  b';D\\x1cKF\\x98$\\xd4o\\xd8\\x8a\\xb6\\xd6\\x12\\xd7\\xe0!\\x1b|*n\\xc3\\x9e\\x8d\\x0c\\x08\\x02\\xec\\x8d\\xda\\xae\\xc7\\xb9\\xa47\\x06\\xbem\\x10?km\\x92C /S\\x87W(\\xefg5{5\\x9d\\x8cW\\xab\\xab\\xbe\\xfa\\x11\\xce\\x10\\x92\\xac\\xb0\\xa4YU\\x0b\\xc8\\xa4\\xbe\\xc10\\xae\\xed\\xaa\\xed\\xa2\\xf2' is authentic\n",
            "https://www.youtube.com/watch?v=Q8Tiz6INF7I\n",
            "Correct! Did you like the song??\n"
          ],
          "name": "stdout"
        }
      ]
    },
    {
      "cell_type": "code",
      "metadata": {
        "colab": {
          "base_uri": "https://localhost:8080/"
        },
        "id": "3zUpW9x3dwoX",
        "outputId": "a84f7e6f-8daf-420d-eda5-90d40a27c9d1"
      },
      "source": [
        "#for KEYID:1\n",
        "msg1 = 40430275554905575658647265090516349925438261918962748994669174535274250817601268234441731203463177318852875000590496549412481161478338085322617181044382451151914355989374576914368971596005856815908077\n",
        "QB1 = Point(32636733385320361812730116183108216112668701450022373767616965055565622363342, 98805030337088261303687121196290041334423983009141542664088673140955547989082, E)\n",
        "message_1 = session_keys(msg1,sA1,QB1)\n",
        "h = message_1.decode()\n",
        "#send decrypted messages to server\n",
        "mes = {'ID_A': stuID, 'DECMSG': h}\n",
        "response = requests.put('{}/{}'.format(API_URL, \"Checker\"), json = mes)\n",
        "print(response.json())"
      ],
      "execution_count": null,
      "outputs": [
        {
          "output_type": "stream",
          "text": [
            "The message  b\"\\x877i\\x98,\\x17\\x9c\\x8c\\xf3\\x9e\\x86,d\\xdd\\x92f!`6\\x96\\x1e\\xf2\\xaaU~\\x88\\x8c\\n\\xbe\\xfe\\xd3D0<l(\\x89\\x0e\\x02\\xa5\\xa6\\xc1R\\xba\\xd4\\x7f1Y\\\\a_\\x84\\xba\\xd4\\xf8[`\\xff\\xdb\\xc2\\x98X'\\xb8\\r\\xef0S(\\x81\\xbd\\xe2\\xf1\\x17r\\x92\\x1cw\\x85\\x83\\xdc\\x84\\xed\" is authentic\n",
            "Correct! Did you like the song??\n"
          ],
          "name": "stdout"
        }
      ]
    },
    {
      "cell_type": "code",
      "metadata": {
        "colab": {
          "base_uri": "https://localhost:8080/"
        },
        "id": "ifc5mHRaeQxv",
        "outputId": "1cc86368-4c58-4f82-b53c-827e8949498d"
      },
      "source": [
        "#for KEYID:2\n",
        "msg2 = 46957132003909831621362563400219459478279428819147275968748836541036758098502340728879311464087158785988159511390832471253939556787478661263268233844485104489616512459805070793519494174779768010521017\n",
        "QB2 = Point(48421277388483113352796411757482422327009369565755376719093590240488632794974, 45793766870943501013787128727136037790926467608586803575527565543314585414372, E)\n",
        "message_2 = session_keys(msg2,sA2,QB2)\n",
        "h = message_2.decode()\n",
        "#send decrypted messages to server\n",
        "mes = {'ID_A': stuID, 'DECMSG': h}\n",
        "response = requests.put('{}/{}'.format(API_URL, \"Checker\"), json = mes)\n",
        "print(response.json())"
      ],
      "execution_count": null,
      "outputs": [
        {
          "output_type": "stream",
          "text": [
            "The message  b\"\\x9d\\x0b\\x8c\\x17\\xc6\\xed&\\xff\\x197L\\xda!s\\xe7\\xe5\\xf2yC.&\\x92\\xa9l\\xd3I'9\\\\\\x17\\xebP]k\\x90}u\\x0b0f\\xf3\\xe7t\\xe9\\xb9f\\x16\\xe0\\xd6.\\x0cHjn{\\xc5*\\xa2\\xed\\x98Or\\x1e\\x80M\\x86\\x13\\r\\xf5V\\x9c/M\\xcbwt\\x87\\xcda\\xa4\\x899\\xb9\" is authentic\n",
            "Correct! Did you like the song??\n"
          ],
          "name": "stdout"
        }
      ]
    },
    {
      "cell_type": "code",
      "metadata": {
        "colab": {
          "base_uri": "https://localhost:8080/"
        },
        "id": "sXtLFzPuenIy",
        "outputId": "0da9d80a-044e-4238-c5f9-91b2ee5b82fa"
      },
      "source": [
        "#for KEYID:3\n",
        "msg3 = 8613400940584567846211301790391552653323274764595594923107761604050568775380330040833421170917090159578623907282823200856134045715056840292780272297197522299054250865284521679605327324438806883757895\n",
        "QB3 = Point(110941973471089384064366641208277936190837296188861716320585526375853061531982, 89033303002974604176376089065035288149962165466988384265564406712841984994869, E)\n",
        "message_3 = session_keys(msg3,sA3,QB3)\n",
        "h = message_3.decode()\n",
        "#send decrypted messages to server\n",
        "mes = {'ID_A': stuID, 'DECMSG': h}\n",
        "response = requests.put('{}/{}'.format(API_URL, \"Checker\"), json = mes)\n",
        "print(response.json())"
      ],
      "execution_count": null,
      "outputs": [
        {
          "output_type": "stream",
          "text": [
            "The message  b\"\\x1c\\xce\\x95EUQw<'\\x88\\x88\\xb8QF\\xd6MK,\\x88\\x11`|46H\\r\\x19r)l\\xb5uN\\xfd\\xdf\\xf7l9\\xb3\\xbd9\\x0b\\xfcH 07p\\x80\\x9b\\xcd\\xbf\\xf9Z\\xd1b\\x03\\xc2\\xb8U\\xbe\\x0f^\\x9cr\\xf5\\xb9y\\xb0\\xf7\\xfdc\\xd0Y\\xf6\\x8a\\x8a\\xe2\\xfd[\\x84oG\" is authentic\n",
            "Correct! Did you like the song??\n"
          ],
          "name": "stdout"
        }
      ]
    },
    {
      "cell_type": "code",
      "metadata": {
        "colab": {
          "base_uri": "https://localhost:8080/"
        },
        "id": "l1xVgrMffCms",
        "outputId": "13e5a091-695b-4520-a0e8-5d28f811357e"
      },
      "source": [
        "#for KEYID:4\n",
        "msg4 = 25441463477105774006518871665545698415413456690181036911890493897527670375953998395217970206615576473303607676562415974441731269752939266785391848723261812521636623137483947550020581200348715727598672\n",
        "QB4 =  Point(20444406111849703453681648722845849248601932765397280751804819667293278140642, 29551710782173199133733203477680974121259083892407943964389582007362559282929, E)\n",
        "message_4 = session_keys(msg4,sA4,QB4)\n",
        "h = message_4.decode()\n",
        "#send decrypted messages to server\n",
        "mes = {'ID_A': stuID, 'DECMSG': h}\n",
        "response = requests.put('{}/{}'.format(API_URL, \"Checker\"), json = mes)\n",
        "print(response.json())"
      ],
      "execution_count": null,
      "outputs": [
        {
          "output_type": "stream",
          "text": [
            "The message  b\"U\\x16[\\xc0\\nT\\x8a0\\xd6\\xae\\x8f\\n\\x95\\x10\\xeb\\xc2f\\x03%\\xf6\\x87\\xb1\\x9b\\x9f\\xbf\\x9b\\xb5\\xcc\\xdf5\\x0c\\xcb\\xfah\\xb0'\\x1e\\x97R\\x17F8\\xbd\\xfe\\xfevi<\\x03\\xceZ\\xcf\\xe5Q\\xec\\xf1\\xb6FS]yZh\\xff\\x0e$\\x85\\xbf(\\xf0,\\x99\\xe9V\\xb94\\xc1\\xc4_\\x98\\x9a4P\" is authentic\n",
            "Correct! Did you like the song??\n"
          ],
          "name": "stdout"
        }
      ]
    },
    {
      "cell_type": "code",
      "metadata": {
        "colab": {
          "base_uri": "https://localhost:8080/",
          "height": 72
        },
        "id": "o3jRHYd0jvk4",
        "outputId": "01d4372f-4b9b-450e-e316-9be172310eb4"
      },
      "source": [
        "#PHASE 3\n",
        "import math\n",
        "import timeit\n",
        "import random\n",
        "import sympy\n",
        "import warnings\n",
        "from random import randint, seed\n",
        "import sys\n",
        "from ecpy.curves import Curve,Point\n",
        "from Crypto.Hash import SHA3_256, SHA256, HMAC\n",
        "import requests\n",
        "from Crypto.Cipher import AES\n",
        "from Crypto import Random\n",
        "from Crypto.Util.Padding import pad\n",
        "from Crypto.Util.Padding import unpad\n",
        "import random\n",
        "import hashlib, hmac, binascii\n",
        "import json\n",
        "API_URL = 'http://cryptlygos.pythonanywhere.com'\n",
        "\n",
        "stuID =  25389\n",
        "stuID_B = 25334\n",
        "\n",
        "E = Curve.get_curve('secp256k1')\n",
        "n = E.order\n",
        "p = E.field\n",
        "P = E.generator\n",
        "a = E.a\n",
        "b = E.b\n",
        "\n",
        "#create a long term key\n",
        "long_term_private = 45917922352925957393588137970243412602337613049636322288077465947682944756984      \n",
        "QCli_long = Point(0x1e1c6f48505619df3ba0367b275130e0e7bf0ad9b2637067ea2707a7d4770fbd , 0x5cffacb13eb2e3bde7247fd8d245725c9d2c05d3c527a7303f25ff5ac917d3e6 , E)\n",
        "m  = str(stuID)\n",
        "m = m.encode()\n",
        "k = randint(1,n-1)\n",
        "R = k*P\n",
        "r = (R.x) % n\n",
        "r = r.to_bytes((r.bit_length()+7)//8, byteorder='big')\n",
        "T = m+r \n",
        "h = (SHA3_256.new(T))\n",
        "h_= h.digest()\n",
        "h=int.from_bytes(h_, byteorder='big')\n",
        "h = h % n\n",
        "s = ((long_term_private * h) + k)  % n\n",
        "\n",
        "####Register Long Term Key\n",
        "\n",
        "\"\"\"mes = {'ID':25389, 'H': h, 'S': s, 'LKEY.X': QCli_long.x, 'LKEY.Y': QCli_long.y}\n",
        "response = requests.put('{}/{}'.format(API_URL, \"RegLongRqst\"), json = mes)\n",
        "print(response.json())\n",
        "\n",
        "code = int(input())\n",
        "\n",
        "mes = {'ID':25389, 'CODE': code}\n",
        "response = requests.put('{}/{}'.format(API_URL, \"RegLong\"), json = mes)\n",
        "print(response.json())\"\"\"\n"
      ],
      "execution_count": null,
      "outputs": [
        {
          "output_type": "execute_result",
          "data": {
            "application/vnd.google.colaboratory.intrinsic+json": {
              "type": "string"
            },
            "text/plain": [
              "'mes = {\\'ID\\':25389, \\'H\\': h, \\'S\\': s, \\'LKEY.X\\': QCli_long.x, \\'LKEY.Y\\': QCli_long.y}\\nresponse = requests.put(\\'{}/{}\\'.format(API_URL, \"RegLongRqst\"), json = mes)\\nprint(response.json())\\n\\ncode = int(input())\\n\\nmes = {\\'ID\\':25389, \\'CODE\\': code}\\nresponse = requests.put(\\'{}/{}\\'.format(API_URL, \"RegLong\"), json = mes)\\nprint(response.json())'"
            ]
          },
          "metadata": {
            "tags": []
          },
          "execution_count": 4
        }
      ]
    },
    {
      "cell_type": "code",
      "metadata": {
        "id": "oJ2LfVoqbGrt"
      },
      "source": [
        "#create new ephemeral keys\n",
        "def key_generator():\n",
        "  E = Curve.get_curve('secp256k1')\n",
        "  n = E.order\n",
        "  p = E.field\n",
        "  P = E.generator\n",
        "  a = E.a\n",
        "  b = E.b\n",
        "  sA = randint(1,n-1)\n",
        "  QA = (sA) * P\n",
        "  return sA, QA\n",
        "\n",
        "sA0, QA0 = key_generator()\n",
        "sA1, QA1 = key_generator()\n",
        "sA2, QA2 = key_generator()\n",
        "sA3, QA3 = key_generator()\n",
        "sA4, QA4 = key_generator()\n",
        "sA5, QA5 = key_generator()\n",
        "sA6, QA6 = key_generator()\n",
        "sA7, QA7 = key_generator()\n",
        "sA8, QA8 = key_generator()\n",
        "sA9, QA9 = key_generator()\n",
        "\n",
        "#signature generation\n",
        "def sign_message(QA, long_priv):\n",
        "  E = Curve.get_curve('secp256k1')\n",
        "  n = E.order\n",
        "  p = E.field\n",
        "  P = E.generator\n",
        "  a = E.a\n",
        "  b = E.b\n",
        "\n",
        "  m  = str(QA.x) + str(QA.y)\n",
        "  m = m.encode()\n",
        "  k = randint(1,n-1)\n",
        "  R = k*P\n",
        "  r = (R.x) % n\n",
        "  r = r.to_bytes((r.bit_length()+7)//8, byteorder='big')\n",
        "  T = m+r \n",
        "  h = (SHA3_256.new(T))\n",
        "  h_= h.digest()\n",
        "  h=int.from_bytes(h_, byteorder='big')\n",
        "  h = h % n\n",
        "\n",
        "  s = ((long_priv * h) + k)  % n\n",
        "  return s, h\n",
        "\n",
        "s0, h0 = sign_message(QA0, long_term_private)\n",
        "s1, h1 = sign_message(QA1, long_term_private)\n",
        "s2, h2 = sign_message(QA2, long_term_private)\n",
        "s3, h3 = sign_message(QA3, long_term_private)\n",
        "s4, h4 = sign_message(QA4, long_term_private)\n",
        "s5, h5 = sign_message(QA5, long_term_private)\n",
        "s6, h6 = sign_message(QA6, long_term_private)\n",
        "s7, h7 = sign_message(QA7, long_term_private)\n",
        "s8, h8 = sign_message(QA8, long_term_private)\n",
        "s9, h9 = sign_message(QA9, long_term_private)"
      ],
      "execution_count": null,
      "outputs": []
    },
    {
      "cell_type": "code",
      "metadata": {
        "colab": {
          "base_uri": "https://localhost:8080/"
        },
        "id": "n22ScfqnbPiL",
        "outputId": "90e0376d-5167-434c-d2f4-82d7bd7c22cd"
      },
      "source": [
        "print(\"sA0: \", sA0, \"QA0: \", QA0, \"s0: \", s0, \"h0: \", h0)\n",
        "print(\"sA1: \", sA1, \"QA1: \", QA1, \"s1: \", s1, \"h1: \", h1)\n",
        "print(\"sA2: \", sA2, \"QA2: \", QA2, \"s2: \", s2, \"h2: \", h2)\n",
        "print(\"sA3: \", sA3, \"QA3: \", QA3, \"s3: \", s3, \"h3: \", h3)\n",
        "print(\"sA4: \", sA4, \"QA4: \", QA4, \"s4: \", s4, \"h4: \", h4)\n",
        "print(\"sA5: \", sA5, \"QA5: \", QA5, \"s5: \", s5, \"h5: \", h5)\n",
        "print(\"sA6: \", sA6, \"QA6: \", QA6, \"s6: \", s6, \"h6: \", h6)\n",
        "print(\"sA7: \", sA7, \"QA7: \", QA7, \"s7: \", s7, \"h7: \", h7)\n",
        "print(\"sA8: \", sA8, \"QA8: \", QA8, \"s8: \", s8, \"h8: \", h8)\n",
        "print(\"sA9: \", sA9, \"QA9: \", QA9, \"s9: \", s9, \"h9: \", h9)"
      ],
      "execution_count": null,
      "outputs": [
        {
          "output_type": "stream",
          "text": [
            "sA0:  25093761799949614643317388267563277448736513418273664080305291875960916104927 QA0:  (0xe26578142620c2918d0f02073ff145bcfaef2c2aaeba0f1e00fb27b7a095c734 , 0xfc4adc44ecac4d46a9e1f760a780a1c624dc5be321277629e838de749cc624a0) s0:  21502281950839758237085942144349217574482913905047276261005010734414668059614 h0:  107701365619184992967826264015781174951581482835526446422960005719838076081642\n",
            "sA1:  48303355567975278662487561155102541139962138943007014363497453018153306745517 QA1:  (0xfa372d7392d898520fa2b5718f667de6359ebc637592a69e0077bdf1fde9b4cf , 0xea8ed64e85939735e60581359189e8f4785d6631c5e14e7c0f4f5eef0065a032) s1:  108307206788401921906731110323985095354937480075224312479029002097074342179845 h1:  89817871765069306769348081573745960688367390188556472096213932214054024353930\n",
            "sA2:  62395255839246821816414398109033603927986411765354137656585067724306534012023 QA2:  (0x3f44353159e66e3f7fe05388d77aad85fbe8757b0b881593927bb2c4a74256b2 , 0x54a028c89527ba566247032a37c152e5033d7147812e840de0fd9b8b502261d7) s2:  59333459645649786214589209677776798962948008355745092462244866507059107747112 h2:  11931148881606016934904305406834613065906469881357965385678640106186334565248\n",
            "sA3:  6867361603728861765736960080577759558719067926761205975926325047084113849604 QA3:  (0x1bda86601672ff3f07dd759ad534a4108dcd77729ae42f9d4e4a6e1339ccd37a , 0xf135e3c74cf21f8c35bbf220f874864d3098824962bb9ada61fb66ad97efd5d2) s3:  113200868959942986475799181985850776905414329915966357560016291463695008237384 h3:  65325355281724019795844810044872679254442332136640506152946457656528045727489\n",
            "sA4:  34318228441274589945746238022154359975000842906859537564372504394880874724835 QA4:  (0x6e3065ab977f0c82eaebaf88c7367ca048dbbc3f106546442455d473c0bcd654 , 0x8bdd2dc5bdc4675ae1f1e85439ab25d0d185b084bd048e514d7d6a555d34350f) s4:  94065481697069655425192306139113751210397725650144861317652907028073103989257 h4:  11517680995484448801838731495906159277987295927509652677916925352024384212339\n",
            "sA5:  72665043415292793629129306823381172453561922600477001150730841078875939429933 QA5:  (0x107d9899da566ac63eb9e9f75fb9e9b157e5cecd8199105e4a54f596c2a0c8c1 , 0xcc9d6c1fdeb7f1937000cfa5bdd0b817ed23b15562d925b2d3c5fd7e8cd96e40) s5:  68790568383663463003405048776971692722406496102084815044079073824343001156018 h5:  26724482615340594055548751107221628349309378671776488718748137800234887380812\n",
            "sA6:  5495373524815068190388952906548976570797382561525804724485861105672524563653 QA6:  (0x813393448b7d204a61d35487e0b3d3f88b41eac943a29a7bbb30931a892cb4a1 , 0xa64d0b321165ef514b6306d618c03195e9eb5b29752ab65bfb8f8cce82a78284) s6:  96285472861064864877334001952383525845191621024873860028154636316977577999469 h6:  55238079095660859754220769331499857375939365584069327519457826457461022451502\n",
            "sA7:  53254479955635572354113600349478944693149908734896068605397821128499630303143 QA7:  (0x74d56019fd0fb3eb01d9816f549fce8d82fc7b5a5e88c7bb54610f2fbf841a1b , 0x6b9268ed3c17198ab2008c991ddee1875376a7c17260faa1a90d9daec45d3c9b) s7:  64532051196923060625627044860784823679473128304323024857806528133632743170803 h7:  49736071888142654317881673740828978085769919736323236506034748832477740649999\n",
            "sA8:  676436177307039675165133415461283943205876577266133774325552135032357008693 QA8:  (0x341a6bb75117e3560ff58eaf089c8b206e141c75b308baee5ab174762436e31e , 0x99dbe54fbf63c77cea79662c6a89ede09968fdf47c852313149c9e0c368191ae) s8:  84891165793889340405867420971063936516232067987826646660383192150013931235810 h8:  68389012153851662648703136036087136561361371161127895098372369052739312379178\n",
            "sA9:  50557057032014156838178326555876869232341597826046820701683829009315126500389 QA9:  (0x3f9c2ad4b2746c3353ee2827a8298b6c9dfb2b2fa4a35f42c5e13da42e10c6ae , 0xf469816a9813244ec2a894790a2b2c51525e5b0bd22ba49e0d3b033cb0b95a71) s9:  36126166406151171053463105264884985888149882812594706413737737885338365171371 h9:  94863444047941160767898409446917163494155811990345256816808465221022133715043\n"
          ],
          "name": "stdout"
        }
      ]
    },
    {
      "cell_type": "code",
      "metadata": {
        "colab": {
          "base_uri": "https://localhost:8080/"
        },
        "id": "SmPW2yWJNVl-",
        "outputId": "68a57778-cb8b-4632-aaf5-35791ad98616"
      },
      "source": [
        "#@title Varsayılan başlık metni\n",
        "\n",
        "###delete ephemeral keys\n",
        "E = Curve.get_curve('secp256k1')\n",
        "n = E.order\n",
        "p = E.field\n",
        "P = E.generator\n",
        "a = E.a\n",
        "b = E.b\n",
        "\n",
        "m  = str(stuID)\n",
        "m = m.encode()\n",
        "k = randint(1,n-1)\n",
        "R = k*P\n",
        "r = (R.x) % n\n",
        "r = r.to_bytes((r.bit_length()+7)//8, byteorder='big')\n",
        "T = m+r \n",
        "h = (SHA3_256.new(T))\n",
        "h_= h.digest()\n",
        "h = int.from_bytes(h_, byteorder='big')\n",
        "h = h % n\n",
        "s = ((long_term_private * h) + k)  % n\n",
        "\n",
        "\n",
        "mes = {'ID': stuID, 'S': s, 'H': h}\n",
        "response = requests.get('{}/{}'.format(API_URL, \"RstEKey\"), json = mes)\n",
        "print(response.json())"
      ],
      "execution_count": null,
      "outputs": [
        {
          "output_type": "stream",
          "text": [
            "200\n"
          ],
          "name": "stdout"
        }
      ]
    },
    {
      "cell_type": "code",
      "metadata": {
        "colab": {
          "base_uri": "https://localhost:8080/"
        },
        "id": "6D1QfyL9bZ_l",
        "outputId": "352316e5-56a3-4ad7-c066-bb7d1cb7bb5c"
      },
      "source": [
        "#send ephemeral key\n",
        "mes = {'ID': stuID, 'KEYID': 0 , 'QAI.X': QA0.x, 'QAI.Y': QA0.y, 'Si': s0, 'Hi': h0}\n",
        "response = requests.put('{}/{}'.format(API_URL, \"SendKey\"), json = mes)\n",
        "print(response.json())\n",
        "\n",
        "mes = {'ID': stuID, 'KEYID': 1 , 'QAI.X': QA1.x, 'QAI.Y': QA1.y, 'Si': s1, 'Hi': h1}\n",
        "response = requests.put('{}/{}'.format(API_URL, \"SendKey\"), json = mes)\n",
        "print(response.json())\n",
        "\n",
        "mes = {'ID': stuID, 'KEYID': 2 , 'QAI.X': QA2.x, 'QAI.Y': QA2.y, 'Si': s2, 'Hi': h2}\n",
        "response = requests.put('{}/{}'.format(API_URL, \"SendKey\"), json = mes)\n",
        "print(response.json())\n",
        "\n",
        "mes = {'ID': stuID, 'KEYID': 3 , 'QAI.X': QA3.x, 'QAI.Y': QA3.y, 'Si': s3, 'Hi': h3}\n",
        "response = requests.put('{}/{}'.format(API_URL, \"SendKey\"), json = mes)\n",
        "print(response.json())\n",
        "\n",
        "mes = {'ID': stuID, 'KEYID': 4 , 'QAI.X': QA4.x, 'QAI.Y': QA4.y, 'Si': s4, 'Hi': h4}\n",
        "response = requests.put('{}/{}'.format(API_URL, \"SendKey\"), json = mes)\n",
        "print(response.json())\n",
        "\n",
        "mes = {'ID': stuID, 'KEYID': 5 , 'QAI.X': QA5.x, 'QAI.Y': QA5.y, 'Si': s5, 'Hi': h5}\n",
        "response = requests.put('{}/{}'.format(API_URL, \"SendKey\"), json = mes)\n",
        "print(response.json())\n",
        "\n",
        "mes = {'ID': stuID, 'KEYID': 6 , 'QAI.X': QA6.x, 'QAI.Y': QA6.y, 'Si': s6, 'Hi': h6}\n",
        "response = requests.put('{}/{}'.format(API_URL, \"SendKey\"), json = mes)\n",
        "print(response.json())\n",
        "\n",
        "mes = {'ID': stuID, 'KEYID': 7 , 'QAI.X': QA7.x, 'QAI.Y': QA7.y, 'Si': s7, 'Hi': h7}\n",
        "response = requests.put('{}/{}'.format(API_URL, \"SendKey\"), json = mes)\n",
        "print(response.json())\n",
        "\n",
        "mes = {'ID': stuID, 'KEYID': 8 , 'QAI.X': QA8.x, 'QAI.Y': QA8.y, 'Si': s8, 'Hi': h8}\n",
        "response = requests.put('{}/{}'.format(API_URL, \"SendKey\"), json = mes)\n",
        "print(response.json())\n",
        "\n",
        "mes = {'ID': stuID, 'KEYID': 9 , 'QAI.X': QA9.x, 'QAI.Y': QA9.y, 'Si': s9, 'Hi': h9}\n",
        "response = requests.put('{}/{}'.format(API_URL, \"SendKey\"), json = mes)\n",
        "print(response.json())\n",
        "\n"
      ],
      "execution_count": null,
      "outputs": [
        {
          "output_type": "stream",
          "text": [
            "Key registered\n",
            "Key registered\n",
            "Key registered\n",
            "Key registered\n",
            "Key registered\n",
            "Key registered\n",
            "Key registered\n",
            "Key registered\n",
            "Key registered\n",
            "Key registered\n"
          ],
          "name": "stdout"
        }
      ]
    },
    {
      "cell_type": "code",
      "metadata": {
        "colab": {
          "base_uri": "https://localhost:8080/"
        },
        "id": "TtyPF2SobLfL",
        "outputId": "97dd67f1-11cc-40ac-ee84-c93ebdd3dda1"
      },
      "source": [
        "#Check Status\n",
        "E = Curve.get_curve('secp256k1')\n",
        "n = E.order\n",
        "p = E.field\n",
        "P = E.generator\n",
        "a = E.a\n",
        "b = E.b\n",
        "\n",
        "m  = str(stuID)\n",
        "m = m.encode()\n",
        "k = randint(1,n-1)\n",
        "R = k*P\n",
        "r = (R.x) % n\n",
        "r = r.to_bytes((r.bit_length()+7)//8, byteorder='big')\n",
        "T = m+r \n",
        "h = (SHA3_256.new(T))\n",
        "h_= h.digest()\n",
        "h=int.from_bytes(h_, byteorder='big')\n",
        "h = h % n\n",
        "s = ((long_term_private * h) + k)  % n\n",
        "\n",
        "mes = {'ID_A':25389, 'H': h, 'S': s}\n",
        "response = requests.get('{}/{}'.format(API_URL, \"Status\"), json = mes)\n",
        "print(\"Status \", response.json())\n"
      ],
      "execution_count": null,
      "outputs": [
        {
          "output_type": "stream",
          "text": [
            "Status  You have 10 keys remained. You need to send 0 keys\n",
            "You have 0 unread messages \n"
          ],
          "name": "stdout"
        }
      ]
    },
    {
      "cell_type": "code",
      "metadata": {
        "id": "5w06y4bC1jfM"
      },
      "source": [
        "#SEND 5 MESSAGES BELOW"
      ],
      "execution_count": null,
      "outputs": []
    },
    {
      "cell_type": "code",
      "metadata": {
        "colab": {
          "base_uri": "https://localhost:8080/"
        },
        "id": "el7lFD35tdCk",
        "outputId": "ebca27c0-8715-4f1a-d02d-8ffb8de40a0d"
      },
      "source": [
        "#sign the other student's ID\n",
        "stuID_B = 18007 \n",
        "m  = str(stuID_B)\n",
        "m = m.encode()\n",
        "k = randint(1,n-1)\n",
        "R = k*P\n",
        "r = (R.x) % n\n",
        "r = r.to_bytes((r.bit_length()+7)//8, byteorder='big')\n",
        "T = m+r \n",
        "h = (SHA3_256.new(T))\n",
        "h_= h.digest()\n",
        "h = int.from_bytes(h_, byteorder='big')\n",
        "h = h % n\n",
        "s = ((long_term_private * h) + k)  % n\n",
        "\n",
        "### Get key of the Student B\n",
        "mes = {'ID_A': stuID, 'ID_B':stuID_B, 'S': s, 'H': h}\n",
        "response = requests.get('{}/{}'.format(API_URL, \"ReqKey\"), json = mes)\n",
        "res = response.json()\n",
        "print(res)"
      ],
      "execution_count": null,
      "outputs": [
        {
          "output_type": "stream",
          "text": [
            "{'i': '1', 'j': 0, 'QBJ.x': 103703195163179398601388127235546781297469880063966663038834743768373118851546, 'QBJ.y': 2716098169632154481784797254039771933452578313683467665712462938335234225984}\n"
          ],
          "name": "stdout"
        }
      ]
    },
    {
      "cell_type": "code",
      "metadata": {
        "colab": {
          "base_uri": "https://localhost:8080/"
        },
        "id": "nLYbD5GluIXI",
        "outputId": "c72f1657-921f-4eed-8549-a81b767bb0de"
      },
      "source": [
        "### Send message to student B\n",
        "from Crypto.Hash import HMAC, SHA256\n",
        "#session keys\n",
        "def session_keys(si, Qj):\n",
        "  T = si * Qj\n",
        "  U = str(T.x) + str(T.y) + \"NoNeedToRunAndHide\"\n",
        "  U = U.encode()\n",
        "  KENC_AB = (SHA3_256.new(U))\n",
        "  KENC_AB_ = KENC_AB.digest()\n",
        "  KMAC_AB = (SHA3_256.new(KENC_AB_))\n",
        "  KMAC_AB_ = KMAC_AB.digest()\n",
        "  return KENC_AB_, KMAC_AB_\n",
        "\n",
        "stuID =  25389\n",
        "stuID_B = 18007 \n",
        "\n",
        "msg = b\"The world is full of lonely people afraid to make the first move.\"\n",
        "QBJ = Point(res.get('QBJ.x') , res.get('QBJ.y'), E)\n",
        "i = res.get('i') \n",
        "j = res.get('j')\n",
        "\n",
        "#msg = msg.encode()\n",
        "K_enc, K_mac = session_keys(sA5, QBJ) #send the sAi according to keyID\n",
        "cipher = AES.new(K_enc, AES.MODE_CTR)\n",
        "Y1 = cipher.encrypt(msg)\n",
        "h = HMAC.new(K_mac, digestmod=SHA256)\n",
        "h.update(Y1) \n",
        "ctext = cipher.nonce[0:8] + Y1 + h.digest()\n",
        "msg = int.from_bytes(ctext, byteorder='big') \n",
        "\n",
        "mes = {'ID_A': stuID, 'ID_B':stuID_B, 'I': i, 'J':j, 'MSG': msg}\n",
        "response = requests.put('{}/{}'.format(API_URL, \"SendMsg\"), json = mes)\n",
        "print(response.json())"
      ],
      "execution_count": null,
      "outputs": [
        {
          "output_type": "stream",
          "text": [
            "Message saved\n"
          ],
          "name": "stdout"
        }
      ]
    },
    {
      "cell_type": "code",
      "metadata": {
        "colab": {
          "base_uri": "https://localhost:8080/"
        },
        "id": "7JK-gIA2z9C0",
        "outputId": "58c34e11-1bdd-416f-ab40-ad83bbae4657"
      },
      "source": [
        "#sign the other student's ID\n",
        "stuID_B = 18007 \n",
        "m  = str(stuID_B)\n",
        "m = m.encode()\n",
        "k = randint(1,n-1)\n",
        "R = k*P\n",
        "r = (R.x) % n\n",
        "r = r.to_bytes((r.bit_length()+7)//8, byteorder='big')\n",
        "T = m+r \n",
        "h = (SHA3_256.new(T))\n",
        "h_= h.digest()\n",
        "h = int.from_bytes(h_, byteorder='big')\n",
        "h = h % n\n",
        "s = ((long_term_private * h) + k)  % n\n",
        "\n",
        "### Get key of the Student B\n",
        "mes = {'ID_A': stuID, 'ID_B':stuID_B, 'S': s, 'H': h}\n",
        "response = requests.get('{}/{}'.format(API_URL, \"ReqKey\"), json = mes)\n",
        "res = response.json()\n",
        "print(res)"
      ],
      "execution_count": null,
      "outputs": [
        {
          "output_type": "stream",
          "text": [
            "{'i': '0', 'j': 349, 'QBJ.x': 63227674659011204738108037186018396018599918869915343505114082448804334663832, 'QBJ.y': 25444612731501886473789307595896007520418826516879458390635109161010977807017}\n"
          ],
          "name": "stdout"
        }
      ]
    },
    {
      "cell_type": "code",
      "metadata": {
        "colab": {
          "base_uri": "https://localhost:8080/"
        },
        "id": "3TAeb5T80D4f",
        "outputId": "07f02860-3310-4db8-de8e-13abd3f06885"
      },
      "source": [
        "### Send message to student B\n",
        "#MESSAGE2\n",
        "from Crypto.Hash import HMAC, SHA256\n",
        "#session keys\n",
        "def session_keys(si, Qj):\n",
        "  T = si * Qj\n",
        "  U = str(T.x) + str(T.y) + \"NoNeedToRunAndHide\"\n",
        "  U = U.encode()\n",
        "  KENC_AB = (SHA3_256.new(U))\n",
        "  KENC_AB_ = KENC_AB.digest()\n",
        "  KMAC_AB = (SHA3_256.new(KENC_AB_))\n",
        "  KMAC_AB_ = KMAC_AB.digest()\n",
        "  return KENC_AB_, KMAC_AB_\n",
        "\n",
        "stuID =  25389\n",
        "stuID_B = 18007 \n",
        "\n",
        "msg = \"I don’t like sand. It’s all coarse, and rough, and irritating. And it gets everywhere.\"\n",
        "QBJ = Point(res.get('QBJ.x') , res.get('QBJ.y'), E)\n",
        "i = res.get('i') \n",
        "j = res.get('j')\n",
        "\n",
        "msg = msg.encode()\n",
        "K_enc, K_mac = session_keys(sA0, QBJ)\n",
        "cipher = AES.new(K_enc, AES.MODE_CTR)\n",
        "Y1 = cipher.encrypt(msg)\n",
        "h = HMAC.new(K_mac, digestmod=SHA256)\n",
        "h.update(Y1) \n",
        "ctext = cipher.nonce[0:8] + Y1 + h.digest()\n",
        "msg = int.from_bytes(ctext, byteorder='big') \n",
        "\n",
        "mes = {'ID_A': stuID, 'ID_B':stuID_B, 'I': i, 'J':j, 'MSG': msg}\n",
        "response = requests.put('{}/{}'.format(API_URL, \"SendMsg\"), json = mes)\n",
        "print(response.json())"
      ],
      "execution_count": null,
      "outputs": [
        {
          "output_type": "stream",
          "text": [
            "Message saved\n"
          ],
          "name": "stdout"
        }
      ]
    },
    {
      "cell_type": "code",
      "metadata": {
        "colab": {
          "base_uri": "https://localhost:8080/"
        },
        "id": "bFculk_I0P8k",
        "outputId": "63b5ac16-2ef3-4dac-c0e7-c90125cc8f1e"
      },
      "source": [
        "#sign the other student's ID\n",
        "stuID_B = 18007 \n",
        "m  = str(stuID_B)\n",
        "m = m.encode()\n",
        "k = randint(1,n-1)\n",
        "R = k*P\n",
        "r = (R.x) % n\n",
        "r = r.to_bytes((r.bit_length()+7)//8, byteorder='big')\n",
        "T = m+r \n",
        "h = (SHA3_256.new(T))\n",
        "h_= h.digest()\n",
        "h = int.from_bytes(h_, byteorder='big')\n",
        "h = h % n\n",
        "s = ((long_term_private * h) + k)  % n\n",
        "\n",
        "### Get key of the Student B\n",
        "mes = {'ID_A': stuID, 'ID_B':stuID_B, 'S': s, 'H': h}\n",
        "response = requests.get('{}/{}'.format(API_URL, \"ReqKey\"), json = mes)\n",
        "res = response.json()\n",
        "print(res)"
      ],
      "execution_count": null,
      "outputs": [
        {
          "output_type": "stream",
          "text": [
            "{'i': '0', 'j': 351, 'QBJ.x': 15597242726441119441755523083818807930110582120968238658685482639193685769411, 'QBJ.y': 19379716234339032294156757386964313026597209422978268133636055654912076464643}\n"
          ],
          "name": "stdout"
        }
      ]
    },
    {
      "cell_type": "code",
      "metadata": {
        "colab": {
          "base_uri": "https://localhost:8080/"
        },
        "id": "cStUB3SO0S5b",
        "outputId": "1b8e0906-2ef7-4ae4-f5ba-e1b39cc5508a"
      },
      "source": [
        "### Send message to student B\n",
        "#MESSAGE3\n",
        "from Crypto.Hash import HMAC, SHA256\n",
        "#session keys\n",
        "def session_keys(si, Qj):\n",
        "  T = si * Qj\n",
        "  U = str(T.x) + str(T.y) + \"NoNeedToRunAndHide\"\n",
        "  U = U.encode()\n",
        "  KENC_AB = (SHA3_256.new(U))\n",
        "  KENC_AB_ = KENC_AB.digest()\n",
        "  KMAC_AB = (SHA3_256.new(KENC_AB_))\n",
        "  KMAC_AB_ = KMAC_AB.digest()\n",
        "  return KENC_AB_, KMAC_AB_\n",
        "\n",
        "stuID =  25389\n",
        "stuID_B = 18007 \n",
        "\n",
        "msg = \"Hate is baggage. Life’s too short to be pissed off all the time. It’s just not worth it.\"\n",
        "QBJ = Point(res.get('QBJ.x') , res.get('QBJ.y'), E)\n",
        "i = res.get('i') \n",
        "j = res.get('j')\n",
        "\n",
        "msg = msg.encode()\n",
        "K_enc, K_mac = session_keys(sA0, QBJ)\n",
        "cipher = AES.new(K_enc, AES.MODE_CTR)\n",
        "Y1 = cipher.encrypt(msg)\n",
        "h = HMAC.new(K_mac, digestmod=SHA256)\n",
        "h.update(Y1) \n",
        "ctext = cipher.nonce[0:8] + Y1 + h.digest()\n",
        "msg = int.from_bytes(ctext, byteorder='big') \n",
        "\n",
        "mes = {'ID_A': stuID, 'ID_B':stuID_B, 'I': i, 'J':j, 'MSG': msg}\n",
        "response = requests.put('{}/{}'.format(API_URL, \"SendMsg\"), json = mes)\n",
        "print(response.json())"
      ],
      "execution_count": null,
      "outputs": [
        {
          "output_type": "stream",
          "text": [
            "Message saved\n"
          ],
          "name": "stdout"
        }
      ]
    },
    {
      "cell_type": "code",
      "metadata": {
        "colab": {
          "base_uri": "https://localhost:8080/"
        },
        "id": "RQ881hkg0u-7",
        "outputId": "78a01ae4-24d5-43f9-ccf0-b1444541c814"
      },
      "source": [
        "#sign the other student's ID\n",
        "stuID_B = 18007 \n",
        "m  = str(stuID_B)\n",
        "m = m.encode()\n",
        "k = randint(1,n-1)\n",
        "R = k*P\n",
        "r = (R.x) % n\n",
        "r = r.to_bytes((r.bit_length()+7)//8, byteorder='big')\n",
        "T = m+r \n",
        "h = (SHA3_256.new(T))\n",
        "h_= h.digest()\n",
        "h = int.from_bytes(h_, byteorder='big')\n",
        "h = h % n\n",
        "s = ((long_term_private * h) + k)  % n\n",
        "\n",
        "### Get key of the Student B\n",
        "mes = {'ID_A': stuID, 'ID_B':stuID_B, 'S': s, 'H': h}\n",
        "response = requests.get('{}/{}'.format(API_URL, \"ReqKey\"), json = mes)\n",
        "res = response.json()\n",
        "print(res)"
      ],
      "execution_count": null,
      "outputs": [
        {
          "output_type": "stream",
          "text": [
            "{'i': '0', 'j': 352, 'QBJ.x': 85967109408044363492781770559070201285944879598892857961275257280568113787272, 'QBJ.y': 11940216781105317458435058962555635720353501856931194968462287618022059058836}\n"
          ],
          "name": "stdout"
        }
      ]
    },
    {
      "cell_type": "code",
      "metadata": {
        "colab": {
          "base_uri": "https://localhost:8080/"
        },
        "id": "B28Uiay60xJC",
        "outputId": "683b6eeb-f336-4b6d-a817-f3151dac01c1"
      },
      "source": [
        "### Send message to student B\n",
        "#MESSAGE4\n",
        "from Crypto.Hash import HMAC, SHA256\n",
        "#session keys\n",
        "def session_keys(si, Qj):\n",
        "  T = si * Qj\n",
        "  U = str(T.x) + str(T.y) + \"NoNeedToRunAndHide\"\n",
        "  U = U.encode()\n",
        "  KENC_AB = (SHA3_256.new(U))\n",
        "  KENC_AB_ = KENC_AB.digest()\n",
        "  KMAC_AB = (SHA3_256.new(KENC_AB_))\n",
        "  KMAC_AB_ = KMAC_AB.digest()\n",
        "  return KENC_AB_, KMAC_AB_\n",
        "\n",
        "stuID =  25389\n",
        "stuID_B = 18007 \n",
        "\n",
        "msg = \"Well, sir, it’s this rug I have, it really tied the room together.\"\n",
        "QBJ = Point(res.get('QBJ.x') , res.get('QBJ.y'), E)\n",
        "i = res.get('i') \n",
        "j = res.get('j')\n",
        "\n",
        "msg = msg.encode()\n",
        "K_enc, K_mac = session_keys(sA0, QBJ)\n",
        "cipher = AES.new(K_enc, AES.MODE_CTR)\n",
        "Y1 = cipher.encrypt(msg)\n",
        "h = HMAC.new(K_mac, digestmod=SHA256)\n",
        "h.update(Y1) \n",
        "ctext = cipher.nonce[0:8] + Y1 + h.digest()\n",
        "msg = int.from_bytes(ctext, byteorder='big') \n",
        "\n",
        "mes = {'ID_A': stuID, 'ID_B':stuID_B, 'I': i, 'J':j, 'MSG': msg}\n",
        "response = requests.put('{}/{}'.format(API_URL, \"SendMsg\"), json = mes)\n",
        "print(response.json())"
      ],
      "execution_count": null,
      "outputs": [
        {
          "output_type": "stream",
          "text": [
            "Message saved\n"
          ],
          "name": "stdout"
        }
      ]
    },
    {
      "cell_type": "code",
      "metadata": {
        "colab": {
          "base_uri": "https://localhost:8080/"
        },
        "id": "TyLkquxa1Tfz",
        "outputId": "f0fd8f9c-6c19-4839-e016-3bca3fd7d8f8"
      },
      "source": [
        "#sign the other student's ID\n",
        "stuID_B = 18007 \n",
        "m  = str(stuID_B)\n",
        "m = m.encode()\n",
        "k = randint(1,n-1)\n",
        "R = k*P\n",
        "r = (R.x) % n\n",
        "r = r.to_bytes((r.bit_length()+7)//8, byteorder='big')\n",
        "T = m+r \n",
        "h = (SHA3_256.new(T))\n",
        "h_= h.digest()\n",
        "h = int.from_bytes(h_, byteorder='big')\n",
        "h = h % n\n",
        "s = ((long_term_private * h) + k)  % n\n",
        "\n",
        "### Get key of the Student B\n",
        "mes = {'ID_A': stuID, 'ID_B':stuID_B, 'S': s, 'H': h}\n",
        "response = requests.get('{}/{}'.format(API_URL, \"ReqKey\"), json = mes)\n",
        "res = response.json()\n",
        "print(res)"
      ],
      "execution_count": null,
      "outputs": [
        {
          "output_type": "stream",
          "text": [
            "{'i': '0', 'j': 353, 'QBJ.x': 23454253900541725271896926582837300095144439666321145422077642767210268559997, 'QBJ.y': 10331157852702186883875574884021457830210317612306027004681693283828176384401}\n"
          ],
          "name": "stdout"
        }
      ]
    },
    {
      "cell_type": "code",
      "metadata": {
        "colab": {
          "base_uri": "https://localhost:8080/"
        },
        "id": "phdpNpim1VPa",
        "outputId": "ce44aff3-bfaf-463d-bd6d-028d7fb84b59"
      },
      "source": [
        "### Send message to student B\n",
        "#MESSAGE5\n",
        "from Crypto.Hash import HMAC, SHA256\n",
        "#session keys\n",
        "def session_keys(si, Qj):\n",
        "  T = si * Qj\n",
        "  U = str(T.x) + str(T.y) + \"NoNeedToRunAndHide\"\n",
        "  U = U.encode()\n",
        "  KENC_AB = (SHA3_256.new(U))\n",
        "  KENC_AB_ = KENC_AB.digest()\n",
        "  KMAC_AB = (SHA3_256.new(KENC_AB_))\n",
        "  KMAC_AB_ = KMAC_AB.digest()\n",
        "  return KENC_AB_, KMAC_AB_\n",
        "\n",
        "stuID =  25389\n",
        "stuID_B = 18007 \n",
        "\n",
        "msg = \"Love is like taking a dump, Butters. Sometimes it works itself out. But sometimes, you need to give it a nice hard slimy push.\"\n",
        "QBJ = Point(res.get('QBJ.x') , res.get('QBJ.y'), E)\n",
        "i = res.get('i') \n",
        "j = res.get('j')\n",
        "\n",
        "msg = msg.encode()\n",
        "K_enc, K_mac = session_keys(sA0, QBJ)\n",
        "cipher = AES.new(K_enc, AES.MODE_CTR)\n",
        "Y1 = cipher.encrypt(msg)\n",
        "h = HMAC.new(K_mac, digestmod=SHA256)\n",
        "h.update(Y1) \n",
        "ctext = cipher.nonce[0:8] + Y1 + h.digest()\n",
        "msg = int.from_bytes(ctext, byteorder='big') \n",
        "\n",
        "mes = {'ID_A': stuID, 'ID_B':stuID_B, 'I': i, 'J':j, 'MSG': msg}\n",
        "response = requests.put('{}/{}'.format(API_URL, \"SendMsg\"), json = mes)\n",
        "print(response.json())"
      ],
      "execution_count": null,
      "outputs": [
        {
          "output_type": "stream",
          "text": [
            "Message saved\n"
          ],
          "name": "stdout"
        }
      ]
    },
    {
      "cell_type": "code",
      "metadata": {
        "id": "NBJm1mhq1eJn"
      },
      "source": [
        "#below is for getting messages and decryption"
      ],
      "execution_count": null,
      "outputs": []
    },
    {
      "cell_type": "code",
      "metadata": {
        "colab": {
          "base_uri": "https://localhost:8080/"
        },
        "id": "A7QHDkj7bhwg",
        "outputId": "60d41e71-ec24-49e8-bb3a-6cd550559fe0"
      },
      "source": [
        "m  = str(stuID)\n",
        "m = m.encode()\n",
        "k = randint(1,n-1)\n",
        "R = k*P\n",
        "r = (R.x) % n\n",
        "r = r.to_bytes((r.bit_length()+7)//8, byteorder='big')\n",
        "T = m+r \n",
        "h = (SHA3_256.new(T))\n",
        "h_= h.digest()\n",
        "h=int.from_bytes(h_, byteorder='big')\n",
        "h = h % n\n",
        "s = ((long_term_private * h) + k)  % n \n",
        "\n",
        "## Get your message\n",
        "mes = {'ID_A': stuID, 'S': s, 'H': h}\n",
        "response = requests.get('{}/{}'.format(API_URL, \"ReqMsg_PH3\"), json = mes)\n",
        "print(response.json())\n"
      ],
      "execution_count": null,
      "outputs": [
        {
          "output_type": "stream",
          "text": [
            "{'IDB': 25334, 'KEYID': 0, 'MSG': 26493286382525014353039658353017008619654269021551312353735468380373875132472151775788008204330999266668524601885153727671826420858817305882414039015554051852030909802214024199155952173751972144243964990040534601586552747510170079590653708144062189513376936740966304808458295, 'QBJ.X': 70226067166027348935917514048584975637091949384078777466905023269741900156888, 'QBJ.Y': 86935586120830898412088888942928497822372712191567369965674437201478914479425}\n"
          ],
          "name": "stdout"
        }
      ]
    },
    {
      "cell_type": "code",
      "metadata": {
        "id": "XTrfmcMEzTT4"
      },
      "source": [
        "def session_keys_and_decrypt(message, si, Qj):\n",
        "  T = si * Qj\n",
        "  U = str(T.x) + str(T.y) + \"NoNeedToRunAndHide\"\n",
        "  U = U.encode()\n",
        "  KENC_AB = (SHA3_256.new(U))\n",
        "  KENC_AB_ = KENC_AB.digest()\n",
        "  KMAC_AB = (SHA3_256.new(KENC_AB_))\n",
        "  KMAC_AB_ = KMAC_AB.digest()\n",
        "  ctext = message.to_bytes((message.bit_length()+7)//8, byteorder='big')\n",
        "  mac = ctext[-32:]\n",
        "  ctext = ctext[0:-32]\n",
        "  cipher = AES.new(KENC_AB_, AES.MODE_CTR, nonce=ctext[0:8])\n",
        "  dtext = cipher.decrypt(ctext[8:])\n",
        "  h = HMAC.new(KMAC_AB_ , digestmod=SHA256)\n",
        "  h.update(ctext[8:])\n",
        "  if mac == h.digest():\n",
        "    print(\"The message \", message.to_bytes((message.bit_length()+7)//8, byteorder='big'), \"is authentic\")\n",
        "    return dtext\n",
        "  else:\n",
        "    return \"Not authentic\"\n",
        "\n"
      ],
      "execution_count": null,
      "outputs": []
    },
    {
      "cell_type": "code",
      "metadata": {
        "colab": {
          "base_uri": "https://localhost:8080/",
          "height": 244
        },
        "id": "JhCIi8AduWAJ",
        "outputId": "3f400a71-1b94-40d6-c973-39c8ff8cec3d"
      },
      "source": [
        "def session_keys_and_decrypt(message, si, Qj):\n",
        "  T = si * Qj\n",
        "  U = str(T.x) + str(T.y) + \"NoNeedToRunAndHide\"\n",
        "  U = U.encode()\n",
        "  KENC_AB = (SHA3_256.new(U))\n",
        "  KENC_AB_ = KENC_AB.digest()\n",
        "  KMAC_AB = (SHA3_256.new(KENC_AB_))\n",
        "  KMAC_AB_ = KMAC_AB.digest()\n",
        "  ctext = message.to_bytes((message.bit_length()+7)//8, byteorder='big')\n",
        "  mac = ctext[-32:]\n",
        "  ctext = ctext[0:-32]\n",
        "  cipher = AES.new(KENC_AB_, AES.MODE_CTR, nonce=ctext[0:8])\n",
        "  dtext = cipher.decrypt(ctext[8:])\n",
        "  h = HMAC.new(KMAC_AB_ , digestmod=SHA256)\n",
        "  h.update(ctext[8:])\n",
        "  if mac == h.digest():\n",
        "    print(\"The message \", message.to_bytes((message.bit_length()+7)//8, byteorder='big'), \"is authentic\")\n",
        "    return dtext\n",
        "  else:\n",
        "    return \"Not authentic\"\n",
        "\n",
        "m  = str(stuID)\n",
        "m = m.encode()\n",
        "k = randint(1,n-1)\n",
        "R = k*P\n",
        "r = (R.x) % n\n",
        "r = r.to_bytes((r.bit_length()+7)//8, byteorder='big')\n",
        "T = m+r \n",
        "h = (SHA3_256.new(T))\n",
        "h_= h.digest()\n",
        "h=int.from_bytes(h_, byteorder='big')\n",
        "h = h % n\n",
        "s = ((long_term_private * h) + k)  % n \n",
        "\n",
        "## Get your message\n",
        "mes = {'ID_A': stuID, 'S': s, 'H': h}\n",
        "response = requests.get('{}/{}'.format(API_URL, \"ReqMsg_PH3\"), json = mes)\n",
        "print(response.json())\n",
        "\n",
        "msg = response.get(\"MSG\")\n",
        "QBJ =  Point(response.get(\"QBJ.X\"), response.get(\"QBJ.Y\"), E)\n",
        "message = session_keys_and_decrypt(msg,sA0,QBJ) #sA will be determined by the KEYID\n",
        "h = message\n",
        "print(h)"
      ],
      "execution_count": null,
      "outputs": [
        {
          "output_type": "error",
          "ename": "NameError",
          "evalue": "ignored",
          "traceback": [
            "\u001b[0;31m---------------------------------------------------------------------------\u001b[0m",
            "\u001b[0;31mNameError\u001b[0m                                 Traceback (most recent call last)",
            "\u001b[0;32m<ipython-input-23-22fe7572b122>\u001b[0m in \u001b[0;36m<module>\u001b[0;34m()\u001b[0m\n\u001b[1;32m      1\u001b[0m \u001b[0;32mif\u001b[0m\u001b[0;34m(\u001b[0m\u001b[0mresponse\u001b[0m\u001b[0;34m.\u001b[0m\u001b[0mok\u001b[0m\u001b[0;34m)\u001b[0m\u001b[0;34m:\u001b[0m\u001b[0;34m\u001b[0m\u001b[0;34m\u001b[0m\u001b[0m\n\u001b[0;32m----> 2\u001b[0;31m   \u001b[0mmsg\u001b[0m \u001b[0;34m=\u001b[0m \u001b[0mres\u001b[0m\u001b[0;34m.\u001b[0m\u001b[0mget\u001b[0m\u001b[0;34m(\u001b[0m\u001b[0;34m\"MSG\"\u001b[0m\u001b[0;34m)\u001b[0m\u001b[0;34m\u001b[0m\u001b[0;34m\u001b[0m\u001b[0m\n\u001b[0m\u001b[1;32m      3\u001b[0m   \u001b[0mQBJ\u001b[0m \u001b[0;34m=\u001b[0m  \u001b[0mPoint\u001b[0m\u001b[0;34m(\u001b[0m\u001b[0mres\u001b[0m\u001b[0;34m.\u001b[0m\u001b[0mget\u001b[0m\u001b[0;34m(\u001b[0m\u001b[0;34m\"QBJ.X\"\u001b[0m\u001b[0;34m)\u001b[0m\u001b[0;34m,\u001b[0m \u001b[0mres\u001b[0m\u001b[0;34m.\u001b[0m\u001b[0mget\u001b[0m\u001b[0;34m(\u001b[0m\u001b[0;34m\"QBJ.Y\"\u001b[0m\u001b[0;34m)\u001b[0m\u001b[0;34m,\u001b[0m \u001b[0mE\u001b[0m\u001b[0;34m)\u001b[0m\u001b[0;34m\u001b[0m\u001b[0;34m\u001b[0m\u001b[0m\n\u001b[1;32m      4\u001b[0m   \u001b[0mmessage\u001b[0m \u001b[0;34m=\u001b[0m \u001b[0msession_keys_and_decrypt\u001b[0m\u001b[0;34m(\u001b[0m\u001b[0mmsg\u001b[0m\u001b[0;34m,\u001b[0m\u001b[0msA0\u001b[0m\u001b[0;34m,\u001b[0m\u001b[0mQBJ\u001b[0m\u001b[0;34m)\u001b[0m\u001b[0;34m\u001b[0m\u001b[0;34m\u001b[0m\u001b[0m\n\u001b[1;32m      5\u001b[0m   \u001b[0mh\u001b[0m \u001b[0;34m=\u001b[0m \u001b[0mmessage\u001b[0m\u001b[0;34m\u001b[0m\u001b[0;34m\u001b[0m\u001b[0m\n",
            "\u001b[0;31mNameError\u001b[0m: name 'res' is not defined"
          ]
        }
      ]
    }
  ]
}