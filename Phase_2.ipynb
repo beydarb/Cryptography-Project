{
  "nbformat": 4,
  "nbformat_minor": 0,
  "metadata": {
    "colab": {
      "name": "Phase 2",
      "provenance": [],
      "collapsed_sections": []
    },
    "kernelspec": {
      "name": "python3",
      "display_name": "Python 3"
    }
  },
  "cells": [
    {
      "cell_type": "code",
      "metadata": {
        "id": "CK10d_D5LTVb"
      },
      "source": [
        "!pip install ecpy\n",
        "!pip install pycryptodome"
      ],
      "execution_count": null,
      "outputs": []
    },
    {
      "cell_type": "code",
      "metadata": {
        "id": "UMexpcwnZL5u"
      },
      "source": [
        "import math\n",
        "import timeit\n",
        "import random\n",
        "import sympy\n",
        "import warnings\n",
        "from random import randint, seed\n",
        "import sys\n",
        "from ecpy.curves import Curve,Point\n",
        "from Crypto.Hash import SHA3_256\n",
        "import requests\n",
        "from Crypto.Cipher import AES\n",
        "from Crypto import Random\n",
        "from Crypto.Util.Padding import pad\n",
        "from Crypto.Util.Padding import unpad\n",
        "import random\n",
        "import re\n",
        "import json\n",
        "API_URL = 'http://cryptlygos.pythonanywhere.com'\n",
        "\n",
        "stuID =  25389\n",
        "\n",
        "E = Curve.get_curve('secp256k1')\n",
        "n = E.order\n",
        "p = E.field\n",
        "P = E.generator\n",
        "a = E.a\n",
        "b = E.b\n",
        "#create a long term key\n",
        "long_term_private = 45917922352925957393588137970243412602337613049636322288077465947682944756984      \n",
        "QCli_long = Point(0x1e1c6f48505619df3ba0367b275130e0e7bf0ad9b2637067ea2707a7d4770fbd , 0x5cffacb13eb2e3bde7247fd8d245725c9d2c05d3c527a7303f25ff5ac917d3e6 , E)\n",
        "m  = str(stuID)\n",
        "m = m.encode()\n",
        "k = randint(1,n-1)\n",
        "R = k*P\n",
        "r = (R.x) % n\n",
        "r = r.to_bytes((r.bit_length()+7)//8, byteorder='big')\n",
        "T = m+r \n",
        "h = (SHA3_256.new(T))\n",
        "h_= h.digest()\n",
        "h=int.from_bytes(h_, byteorder='big')\n",
        "h = h % n\n",
        "s = ((long_term_private * h) + k)  % n\n",
        "\n",
        "#server's long term key\n",
        "QSer_long = Point(0xc1bc6c9063b6985fe4b93be9b8f9d9149c353ae83c34a434ac91c85f61ddd1e9 , 0x931bd623cf52ee6009ed3f50f6b4f92c564431306d284be7e97af8e443e69a8c, E)\n",
        "\n"
      ],
      "execution_count": null,
      "outputs": []
    },
    {
      "cell_type": "code",
      "metadata": {
        "id": "Y-k8ez4oZSEd"
      },
      "source": [
        "\n",
        "####Register Long Term Key\n",
        "mes = {'ID':25389, 'H': h, 'S': s, 'LKEY.X': QCli_long.x, 'LKEY.Y': QCli_long.y}\n",
        "response = requests.put('{}/{}'.format(API_URL, \"RegLongRqst\"), json = mes)\n",
        "print(response.json())\n",
        "code = input()\n",
        "\n",
        "mes = {'ID':25389, 'CODE': code}\n",
        "response = requests.put('{}/{}'.format(API_URL, \"RegLong\"), json = mes)\n",
        "print(response.json())\n",
        "\n",
        "\n",
        "def key_generator():\n",
        "  E = Curve.get_curve('secp256k1')\n",
        "  n = E.order\n",
        "  p = E.field\n",
        "  P = E.generator\n",
        "  a = E.a\n",
        "  b = E.b\n",
        "  sA = randint(1,n-1)\n",
        "  QA = (sA) * P\n",
        "  return sA, QA\n",
        "\n",
        "sA0, QA0 = key_generator()\n",
        "sA1, QA1 = key_generator()\n",
        "sA2, QA2 = key_generator()\n",
        "sA3, QA3 = key_generator()\n",
        "sA4, QA4 = key_generator()\n",
        "sA5, QA5 = key_generator()\n",
        "sA6, QA6 = key_generator()\n",
        "sA7, QA7 = key_generator()\n",
        "sA8, QA8 = key_generator()\n",
        "sA9, QA9 = key_generator()\n",
        "\n",
        "#signature generation\n",
        "def sign_message(QA, long_priv):\n",
        "  E = Curve.get_curve('secp256k1')\n",
        "  n = E.order\n",
        "  p = E.field\n",
        "  P = E.generator\n",
        "  a = E.a\n",
        "  b = E.b\n",
        "\n",
        "  m  = str(QA.x) + str(QA.y)\n",
        "  m = m.encode()\n",
        "  k = randint(1,n-1)\n",
        "  R = k*P\n",
        "  r = (R.x) % n\n",
        "  r = r.to_bytes((r.bit_length()+7)//8, byteorder='big')\n",
        "  T = m+r \n",
        "  h = (SHA3_256.new(T))\n",
        "  h_= h.digest()\n",
        "  h=int.from_bytes(h_, byteorder='big')\n",
        "  h = h % n\n",
        "\n",
        "  s = ((long_priv * h) + k)  % n\n",
        "  return s, h\n",
        "\n",
        "s0, h0 = sign_message(QA0, long_term_private)\n",
        "s1, h1 = sign_message(QA1, long_term_private)\n",
        "s2, h2 = sign_message(QA2, long_term_private)\n",
        "s3, h3 = sign_message(QA3, long_term_private)\n",
        "s4, h4 = sign_message(QA4, long_term_private)\n",
        "s5, h5 = sign_message(QA5, long_term_private)\n",
        "s6, h6 = sign_message(QA6, long_term_private)\n",
        "s7, h7 = sign_message(QA7, long_term_private)\n",
        "s8, h8 = sign_message(QA8, long_term_private)\n",
        "s9, h9 = sign_message(QA9, long_term_private)\n",
        "\n",
        "\n"
      ],
      "execution_count": null,
      "outputs": []
    },
    {
      "cell_type": "code",
      "metadata": {
        "id": "aZXhHqvwZWhG"
      },
      "source": [
        "print(\"sA0: \", sA0, \"QA0: \", QA0, \"s0: \", s0, \"h0: \", h0)\n",
        "print(\"sA1: \", sA1, \"QA1: \", QA1, \"s1: \", s1, \"h1: \", h1)\n",
        "print(\"sA2: \", sA2, \"QA2: \", QA2, \"s2: \", s2, \"h2: \", h2)\n",
        "print(\"sA3: \", sA3, \"QA3: \", QA3, \"s3: \", s3, \"h3: \", h3)\n",
        "print(\"sA4: \", sA4, \"QA4: \", QA4, \"s4: \", s4, \"h4: \", h4)\n",
        "print(\"sA5: \", sA5, \"QA5: \", QA5, \"s5: \", s5, \"h5: \", h5)\n",
        "print(\"sA6: \", sA6, \"QA6: \", QA6, \"s6: \", s6, \"h6: \", h6)\n",
        "print(\"sA7: \", sA7, \"QA7: \", QA7, \"s7: \", s7, \"h7: \", h7)\n",
        "print(\"sA8: \", sA8, \"QA8: \", QA8, \"s8: \", s8, \"h8: \", h8)\n",
        "print(\"sA9: \", sA9, \"QA9: \", QA9, \"s9: \", s9, \"h9: \", h9)"
      ],
      "execution_count": null,
      "outputs": []
    },
    {
      "cell_type": "code",
      "metadata": {
        "id": "i4HI-8wDZXZY"
      },
      "source": [
        "#send ephemeral key\n",
        "mes = {'ID': stuID, 'KEYID': 0 , 'QAI.X': QA0.x, 'QAI.Y': QA0.y, 'Si': s0, 'Hi': h0}\n",
        "response = requests.put('{}/{}'.format(API_URL, \"SendKey\"), json = mes)\n",
        "print(response.json())\n",
        "\n",
        "mes = {'ID': stuID, 'KEYID': 1 , 'QAI.X': QA1.x, 'QAI.Y': QA1.y, 'Si': s1, 'Hi': h1}\n",
        "response = requests.put('{}/{}'.format(API_URL, \"SendKey\"), json = mes)\n",
        "print(response.json())\n",
        "\n",
        "mes = {'ID': stuID, 'KEYID': 2 , 'QAI.X': QA2.x, 'QAI.Y': QA2.y, 'Si': s2, 'Hi': h2}\n",
        "response = requests.put('{}/{}'.format(API_URL, \"SendKey\"), json = mes)\n",
        "print(response.json())\n",
        "\n",
        "mes = {'ID': stuID, 'KEYID': 3 , 'QAI.X': QA3.x, 'QAI.Y': QA3.y, 'Si': s3, 'Hi': h3}\n",
        "response = requests.put('{}/{}'.format(API_URL, \"SendKey\"), json = mes)\n",
        "print(response.json())\n",
        "\n",
        "mes = {'ID': stuID, 'KEYID': 4 , 'QAI.X': QA4.x, 'QAI.Y': QA4.y, 'Si': s4, 'Hi': h4}\n",
        "response = requests.put('{}/{}'.format(API_URL, \"SendKey\"), json = mes)\n",
        "print(response.json())\n",
        "\n",
        "mes = {'ID': stuID, 'KEYID': 5 , 'QAI.X': QA5.x, 'QAI.Y': QA5.y, 'Si': s5, 'Hi': h5}\n",
        "response = requests.put('{}/{}'.format(API_URL, \"SendKey\"), json = mes)\n",
        "print(response.json())\n",
        "\n",
        "mes = {'ID': stuID, 'KEYID': 6 , 'QAI.X': QA6.x, 'QAI.Y': QA6.y, 'Si': s6, 'Hi': h6}\n",
        "response = requests.put('{}/{}'.format(API_URL, \"SendKey\"), json = mes)\n",
        "print(response.json())\n",
        "\n",
        "mes = {'ID': stuID, 'KEYID': 7 , 'QAI.X': QA7.x, 'QAI.Y': QA7.y, 'Si': s7, 'Hi': h7}\n",
        "response = requests.put('{}/{}'.format(API_URL, \"SendKey\"), json = mes)\n",
        "print(response.json())\n",
        "\n",
        "mes = {'ID': stuID, 'KEYID': 8 , 'QAI.X': QA8.x, 'QAI.Y': QA8.y, 'Si': s8, 'Hi': h8}\n",
        "response = requests.put('{}/{}'.format(API_URL, \"SendKey\"), json = mes)\n",
        "print(response.json())\n",
        "\n",
        "mes = {'ID': stuID, 'KEYID': 9 , 'QAI.X': QA9.x, 'QAI.Y': QA9.y, 'Si': s9, 'Hi': h9}\n",
        "response = requests.put('{}/{}'.format(API_URL, \"SendKey\"), json = mes)\n",
        "print(response.json())\n",
        "\n"
      ],
      "execution_count": null,
      "outputs": []
    },
    {
      "cell_type": "code",
      "metadata": {
        "id": "T1HIiuOPLel-"
      },
      "source": [
        "#GET 5 MESSAGES BELOW"
      ],
      "execution_count": null,
      "outputs": []
    },
    {
      "cell_type": "code",
      "metadata": {
        "id": "YLtmeM6-ZZET"
      },
      "source": [
        "#Receiving Messages\n",
        "E = Curve.get_curve('secp256k1')\n",
        "n = E.order\n",
        "p = E.field\n",
        "P = E.generator\n",
        "a = E.a\n",
        "b = E.b\n",
        "\n",
        "m  = str(stuID)\n",
        "m = m.encode()\n",
        "k = randint(1,n-1)\n",
        "R = k*P\n",
        "r = (R.x) % n\n",
        "r = r.to_bytes((r.bit_length()+7)//8, byteorder='big')\n",
        "T = m+r \n",
        "h = (SHA3_256.new(T))\n",
        "h_= h.digest()\n",
        "h = int.from_bytes(h_, byteorder='big')\n",
        "h = h % n\n",
        "\n",
        "s = ((long_term_private * h) + k)  % n\n",
        "mes = {'ID_A': stuID, 'S': s, 'H': h}\n",
        "response = requests.get('{}/{}'.format(API_URL, \"ReqMsg\"), json = mes)\n",
        "print(response.json())"
      ],
      "execution_count": null,
      "outputs": []
    },
    {
      "cell_type": "code",
      "metadata": {
        "id": "2n9mBuf3Zci0"
      },
      "source": [
        "#Receiving Messages\n",
        "E = Curve.get_curve('secp256k1')\n",
        "n = E.order\n",
        "p = E.field\n",
        "P = E.generator\n",
        "a = E.a\n",
        "b = E.b\n",
        "\n",
        "m  = str(stuID)\n",
        "m = m.encode()\n",
        "k = randint(1,n-1)\n",
        "R = k*P\n",
        "r = (R.x) % n\n",
        "r = r.to_bytes((r.bit_length()+7)//8, byteorder='big')\n",
        "T = m+r \n",
        "h = (SHA3_256.new(T))\n",
        "h_= h.digest()\n",
        "h = int.from_bytes(h_, byteorder='big')\n",
        "h = h % n\n",
        "\n",
        "s = ((long_term_private * h) + k)  % n\n",
        "mes = {'ID_A': stuID, 'S': s, 'H': h}\n",
        "response = requests.get('{}/{}'.format(API_URL, \"ReqMsg\"), json = mes)\n",
        "print(response.json())"
      ],
      "execution_count": null,
      "outputs": []
    },
    {
      "cell_type": "code",
      "metadata": {
        "id": "DKXlplEQZdQc"
      },
      "source": [
        "#Receiving Messages\n",
        "E = Curve.get_curve('secp256k1')\n",
        "n = E.order\n",
        "p = E.field\n",
        "P = E.generator\n",
        "a = E.a\n",
        "b = E.b\n",
        "\n",
        "m  = str(stuID)\n",
        "m = m.encode()\n",
        "k = randint(1,n-1)\n",
        "R = k*P\n",
        "r = (R.x) % n\n",
        "r = r.to_bytes((r.bit_length()+7)//8, byteorder='big')\n",
        "T = m+r \n",
        "h = (SHA3_256.new(T))\n",
        "h_= h.digest()\n",
        "h = int.from_bytes(h_, byteorder='big')\n",
        "h = h % n\n",
        "\n",
        "s = ((long_term_private * h) + k)  % n\n",
        "mes = {'ID_A': stuID, 'S': s, 'H': h}\n",
        "response = requests.get('{}/{}'.format(API_URL, \"ReqMsg\"), json = mes)\n",
        "print(response.json())"
      ],
      "execution_count": null,
      "outputs": []
    },
    {
      "cell_type": "code",
      "metadata": {
        "id": "gxywxLvZZfHG"
      },
      "source": [
        "#Receiving Messages\n",
        "E = Curve.get_curve('secp256k1')\n",
        "n = E.order\n",
        "p = E.field\n",
        "P = E.generator\n",
        "a = E.a\n",
        "b = E.b\n",
        "\n",
        "m  = str(stuID)\n",
        "m = m.encode()\n",
        "k = randint(1,n-1)\n",
        "R = k*P\n",
        "r = (R.x) % n\n",
        "r = r.to_bytes((r.bit_length()+7)//8, byteorder='big')\n",
        "T = m+r \n",
        "h = (SHA3_256.new(T))\n",
        "h_= h.digest()\n",
        "h = int.from_bytes(h_, byteorder='big')\n",
        "h = h % n\n",
        "\n",
        "s = ((long_term_private * h) + k)  % n\n",
        "mes = {'ID_A': stuID, 'S': s, 'H': h}\n",
        "response = requests.get('{}/{}'.format(API_URL, \"ReqMsg\"), json = mes)\n",
        "print(response.json())\n"
      ],
      "execution_count": null,
      "outputs": []
    },
    {
      "cell_type": "code",
      "metadata": {
        "id": "GRsI8mejZjEr"
      },
      "source": [
        "#Receiving Messages\n",
        "E = Curve.get_curve('secp256k1')\n",
        "n = E.order\n",
        "p = E.field\n",
        "P = E.generator\n",
        "a = E.a\n",
        "b = E.b\n",
        "\n",
        "m  = str(stuID)\n",
        "m = m.encode()\n",
        "k = randint(1,n-1)\n",
        "R = k*P\n",
        "r = (R.x) % n\n",
        "r = r.to_bytes((r.bit_length()+7)//8, byteorder='big')\n",
        "T = m+r \n",
        "h = (SHA3_256.new(T))\n",
        "h_= h.digest()\n",
        "h = int.from_bytes(h_, byteorder='big')\n",
        "h = h % n\n",
        "\n",
        "s = ((long_term_private * h) + k)  % n\n",
        "mes = {'ID_A': stuID, 'S': s, 'H': h}\n",
        "response = requests.get('{}/{}'.format(API_URL, \"ReqMsg\"), json = mes)\n",
        "print(response.json())"
      ],
      "execution_count": null,
      "outputs": []
    },
    {
      "cell_type": "code",
      "metadata": {
        "id": "yT4vtnZEZoNQ"
      },
      "source": [
        "sA0, QA0, s0, h0 = 82543384283391623622849791820575630198488103744083980548928116053600005759945 , (0xfb2b48d228ddbcdc8c3a6b957de22757f1027af5a4dd85c7aff17a7deb1b4958 , 0x667a0d8c974d9a81c5d5e598613839eac327782cd3588c8d423d136352468c7) ,  82720513417142409764978006740305158672497742081804379812192344933328242570816 ,  28288362648394007017447150617984660347988209942587627533123706027538343303625\n",
        "sA1, QA1, s1, h1 = 115606596987806643177008702969844986728848373589906641795160548218968247600803 , (0x9c75d3d58e0d870ee72d7b0081b82f17956cc718b81c84fd26b525baa79f61df , 0x95aee8441c1afc486a444cc3b11cdcd1c66e4d7291e2c8941d5694bd2993eef8) , 69839503343330213539255704641105853118984003631558227104930340515924177221774 ,  101609936301700590093394863128365629640961790710818979346265718663740752324068\n",
        "sA2, QA2, s2, h2 = 102051085025409459694123872404617753804917400802047317073885463316937097769392 ,  (0xd860e35190dbbc6f7324e99888820c7860b469c7ae334966881c464057e8e6d2 , 0xd556004b37d8fde5a275f67e6e949a512a1ba3ae8060f6dfa14326d3d75b09f0) ,  25313671591917344271177305335336361157015944766668569089714427207916581707292 , 85041708475274993481341250802219137891842380961309803233319787599409017391639\n",
        "sA3, QA3, s3, h3 = 100056109020662515818180407479702142632948903298738057252512779433430994800057 , (0xe3cf5c7ad5ad2a36c84938906d4aa708227c5a97fbfe13018a0990a9c134e935 , 0xc1f9670d9b749c75b35d236019077e4f143f72f8809a2a6dec1f15ff71eaec71) ,  12220845454396965748757270544193118121522077850760890261175597238247962718875 ,  94578874030025145254647363571532083752731485510654601665468074913304690323071\n",
        "sA4, QA4, s4, h4 = 18716412006718086656232009765038629499379530035782610360024808011470537630902 ,  (0x987448e6eb425903f8d5835ad9ff5187cfdd867e6035cea4048ecf4e0c604c17 , 0xdf813d1568549e03bc7e0f84f83301e1db6efa08666807c6cad75cdd6fbadfe7) , 67719794330328712697472735519011489598231768956822624327105235541024499898464 , 84366196511542838752928152180347402423769995800123882128789580267246784963237\n",
        "sA5, QA5, s5, h5 = 15042697023948426675811855476733496962443938328832977897233540956754308576174 , (0x1f57be86cb78b10d68b1957b51036a42eb601d3bb6ae94cdcb76959f1bc2a88e , 0x9b2f838fee9470eabc0b7e8b2b04f4f61928afd39954a4688346807c0fe92d55) ,  110079807378333116436796367823436796926261988285828966411596706472573964588969 , 41609810393756258132183153247179668100474364794754027679933459992404362636285\n",
        "sA6, QA6, s6, h6 = 85386185288710580090357355757582342229569303938438416817559036827266026802050 , (0xddebe7c0f76edfce6bb63d99fc590134c749ba899d9b4767c8cdaee1bfb2cc96 , 0xca254e472faf2399e80c106f01ce085e4c431abcc5296a54f73aa419e48b0494) ,  115301252969220162702759118770155118400502262604399135395804531859184143358644 ,  75806659055906352911251482067816076215754191423650838948003294913519708850391\n",
        "sA7, QA7, s7, h7 = 74318440188815669783690315293288987409084669343154606118973843935372322413271 ,  (0x9800b079e24f0a574d38b8d195624c9426ca9fe20508e1458bfd07b58e5cfd98 , 0xe1dc42bec2d55922ccc4e6e3705413697f6eb8ea3028b092462e42df63cbeaeb) , 30152059764832952400321754789840693401302065942683450851027577258385208914251 ,  111394653762927129010303073119565970311964087596160152347469730702891499399844\n",
        "sA8, QA8, s8, h8 = 42425719425855273331959379146980108213255799433913507275942363572766467048509 , (0x49eaa223c864149967336dbeb14c40a90523f7bb470632498c06d4b831c61475 , 0x72ae161281f1962c5db0897c26f1d73212748d3a3c33db161b37bdee6c2e2c10) ,  20182049496958868223225827922582702725632795710943759746446061012468988393933 ,  67103133808441375344629366569779447084546147067656205685755619731900349035299\n",
        "sA9, QA9, s9, h9 = 13704814155367561487837776297157103536421134861131298841855928923412262614639 ,  (0x87e09c9fdb208578a24c29dc9aa9d68219dbfb3fb528cab1f99e950ab92e3ee9 , 0x53d6531bb6942abc39925479f8df42c33da546190a20e0206a6f49a63b4d62ba) , 27457068836150299574017050299947955038373640682067760462728793427362932325773 , 68779957237338393836158755926511756344537206498567792148828479750595895575298"
      ],
      "execution_count": null,
      "outputs": []
    },
    {
      "cell_type": "code",
      "metadata": {
        "id": "VcFNUuUyZqIH"
      },
      "source": [
        "#decrypt messages\n",
        "from Crypto.Hash import HMAC, SHA256\n",
        "#session keys\n",
        "def session_keys_and_decrypt(message, si, Qj):\n",
        "  T = si * Qj\n",
        "  U = str(T.x) + str(T.y) + \"NoNeedToRunAndHide\"\n",
        "  U = U.encode()\n",
        "  KENC_AB = (SHA3_256.new(U))\n",
        "  KENC_AB_ = KENC_AB.digest()\n",
        "  KMAC_AB = (SHA3_256.new(KENC_AB_))\n",
        "  KMAC_AB_ = KMAC_AB.digest()\n",
        "  ctext = message.to_bytes((message.bit_length()+7)//8, byteorder='big')\n",
        "  mac = ctext[-32:]\n",
        "  ctext = ctext[0:-32]\n",
        "  cipher = AES.new(KENC_AB_, AES.MODE_CTR, nonce=ctext[0:8])\n",
        "  dtext = cipher.decrypt(ctext[8:])\n",
        "  h = HMAC.new(KMAC_AB_ , digestmod=SHA256)\n",
        "  h.update(ctext[8:])\n",
        "  if mac == h.digest():\n",
        "    print(\"The message \", message.to_bytes((message.bit_length()+7)//8, byteorder='big'), \"is authentic\")\n",
        "    return dtext\n",
        "  else:\n",
        "    return \"Not authentic\""
      ],
      "execution_count": null,
      "outputs": []
    },
    {
      "cell_type": "code",
      "metadata": {
        "id": "Jp0CNQ9-ZsGW"
      },
      "source": [
        "#for KEYID:0 \n",
        "msg0 = 17720794446848774991130155448282084288791104527069307820855503813929729016895914453518623392750481403203719599348495602147840350218544338723731834039818453146757642666430564098313414639364042369377010\n",
        "QB0 = Point(94532122962867511185800589273587440472361078076014591619662504450715136624028, 23378557078196776373888889771714683320279156677649776442452558438633034068001,E)\n",
        "message_0 = session_keys_and_decrypt(msg0,sA0,QB0)\n",
        "h = message_0.decode()\n",
        "#send decrypted messages to server\n",
        "mes = {'ID_A': stuID, 'DECMSG': h}\n",
        "response = requests.put('{}/{}'.format(API_URL, \"Checker\"), json = mes)\n",
        "print(response.json())"
      ],
      "execution_count": null,
      "outputs": []
    },
    {
      "cell_type": "code",
      "metadata": {
        "id": "2-EEjUBeZuMj"
      },
      "source": [
        "#for KEYID:1\n",
        "msg1 = 40430275554905575658647265090516349925438261918962748994669174535274250817601268234441731203463177318852875000590496549412481161478338085322617181044382451151914355989374576914368971596005856815908077\n",
        "QB1 = Point(32636733385320361812730116183108216112668701450022373767616965055565622363342, 98805030337088261303687121196290041334423983009141542664088673140955547989082, E)\n",
        "message_1 = session_keys_and_decrypt(msg1,sA1,QB1)\n",
        "h = message_1.decode()\n",
        "#send decrypted messages to server\n",
        "mes = {'ID_A': stuID, 'DECMSG': h}\n",
        "response = requests.put('{}/{}'.format(API_URL, \"Checker\"), json = mes)\n",
        "print(response.json())"
      ],
      "execution_count": null,
      "outputs": []
    },
    {
      "cell_type": "code",
      "metadata": {
        "id": "LK5ktD2XZx7q"
      },
      "source": [
        "#for KEYID:2\n",
        "msg2 = 46957132003909831621362563400219459478279428819147275968748836541036758098502340728879311464087158785988159511390832471253939556787478661263268233844485104489616512459805070793519494174779768010521017\n",
        "QB2 = Point(48421277388483113352796411757482422327009369565755376719093590240488632794974, 45793766870943501013787128727136037790926467608586803575527565543314585414372, E)\n",
        "message_2 = session_keys_and_decrypt(msg2,sA2,QB2)\n",
        "h = message_2.decode()\n",
        "#send decrypted messages to server\n",
        "mes = {'ID_A': stuID, 'DECMSG': h}\n",
        "response = requests.put('{}/{}'.format(API_URL, \"Checker\"), json = mes)\n",
        "print(response.json())"
      ],
      "execution_count": null,
      "outputs": []
    },
    {
      "cell_type": "code",
      "metadata": {
        "id": "0AHszPNtZ1fh"
      },
      "source": [
        "#for KEYID:3\n",
        "msg3 = 8613400940584567846211301790391552653323274764595594923107761604050568775380330040833421170917090159578623907282823200856134045715056840292780272297197522299054250865284521679605327324438806883757895\n",
        "QB3 = Point(110941973471089384064366641208277936190837296188861716320585526375853061531982, 89033303002974604176376089065035288149962165466988384265564406712841984994869, E)\n",
        "message_3 = session_keys_and_decrypt(msg3,sA3,QB3)\n",
        "h = message_3.decode()\n",
        "#send decrypted messages to server\n",
        "mes = {'ID_A': stuID, 'DECMSG': h}\n",
        "response = requests.put('{}/{}'.format(API_URL, \"Checker\"), json = mes)\n",
        "print(response.json())"
      ],
      "execution_count": null,
      "outputs": []
    },
    {
      "cell_type": "code",
      "metadata": {
        "id": "vqxjtwhxZ3Th"
      },
      "source": [
        "#for KEYID:4\n",
        "msg4 = 25441463477105774006518871665545698415413456690181036911890493897527670375953998395217970206615576473303607676562415974441731269752939266785391848723261812521636623137483947550020581200348715727598672\n",
        "QB4 =  Point(20444406111849703453681648722845849248601932765397280751804819667293278140642, 29551710782173199133733203477680974121259083892407943964389582007362559282929, E)\n",
        "message_4 = session_keys_and_decrypt(msg4,sA4,QB4)\n",
        "h = message_4.decode()\n",
        "#send decrypted messages to server\n",
        "mes = {'ID_A': stuID, 'DECMSG': h}\n",
        "response = requests.put('{}/{}'.format(API_URL, \"Checker\"), json = mes)\n",
        "print(response.json())"
      ],
      "execution_count": null,
      "outputs": []
    },
    {
      "cell_type": "code",
      "metadata": {
        "id": "DxZlDJDmLEzi"
      },
      "source": [
        "###########DELETE LONG TERM KEY\n",
        "# If you lost your long term key, you can reset it yourself with below code.\n",
        "\n",
        "# First you need to send a request to delete it. \n",
        "\"\"\"mes = {'ID': stuID}\n",
        "response = requests.get('{}/{}'.format(API_URL, \"RstLongRqst\"), json = mes)\n",
        "\n",
        "#Then server will send a verification code to your email. \n",
        "# Send this code to server using below code\n",
        "mes = {'ID': stuID, 'CODE', code}\n",
        "response = requests.get('{}/{}'.format(API_URL, \"RstLong\"), json = mes)\"\"\"\n",
        "\n",
        "#Now your long term key is deleted. You can register again. \n",
        "\n"
      ],
      "execution_count": null,
      "outputs": []
    }
  ]
}